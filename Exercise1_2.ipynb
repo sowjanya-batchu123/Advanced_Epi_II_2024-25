{
 "cells": [
  {
   "metadata": {},
   "cell_type": "markdown",
   "source": [
    "## Exercise: Writing functions\n",
    "In the following, you will write three functions in which you integrate the previously learned content."
   ],
   "id": "83c3c567914bf017"
  },
  {
   "metadata": {},
   "cell_type": "markdown",
   "source": [
    "### Function 1: Beergarden capacity\n",
    "\n",
    "Write a function `beer_garden_capacity(guests, tables)` that calculates whether there are enough seats in a beer garden.\n",
    "\n",
    "Each table has 8 seats.\n",
    "The function should return:\n",
    "- `“There are enough tables!”` → if there is enough space.\n",
    "- `“Not enough tables, find another beer garden!”` → if there are more guests than seats."
   ],
   "id": "2dea4c09a812a91b"
  },
  {
   "metadata": {
    "ExecuteTime": {
     "end_time": "2025-03-17T11:33:56.501145Z",
     "start_time": "2025-03-17T11:33:56.495155Z"
    }
   },
   "cell_type": "code",
   "source": [
    "def beer_garden_capacity(guests,tables):\n",
    "    if guests > tables*8:\n",
    "       return \"Not enough tables,find another beer garden!\"\n",
    "    else:\n",
    "        return \"There are enough tables,find another beer garden!\"\n"
   ],
   "id": "6d0e85b58d23536f",
   "outputs": [],
   "execution_count": 21
  },
  {
   "metadata": {
    "ExecuteTime": {
     "end_time": "2025-03-17T11:33:56.518018Z",
     "start_time": "2025-03-17T11:33:56.512649Z"
    }
   },
   "cell_type": "code",
   "source": [
    "# Example calls\n",
    "print(beer_garden_capacity(40, 6))  # \"There are enough tables!\"\n",
    "print(beer_garden_capacity(50, 5))  # \"Not enough tables, find another beer garden!\""
   ],
   "id": "4c8d83ff20a41334",
   "outputs": [
    {
     "name": "stdout",
     "output_type": "stream",
     "text": [
      "There are enough tables,find another beer garden!\n",
      "Not enough tables,find another beer garden!\n"
     ]
    }
   ],
   "execution_count": 22
  },
  {
   "metadata": {},
   "cell_type": "markdown",
   "source": [
    "i### Function 2: Isar swimming warning\n",
    "Write a function `isar_swimming_warning(temp, flow_rate)` that outputs a warning whether the Isar is too dangerous for swimmers.\n",
    "\n",
    "- If the water temperature is below 15°C, the function should return `“Warning: The Isar is too cold! ❄️”` should be returned.\n",
    "- If the flow velocity is above 300 m³/s, the function `“Warning: The current is too strong! 🌊”` should be returned.\n",
    "- If both apply, the function `“Danger! The Isar is too cold and too strong! ⚠️”`.\n",
    "- If everything is fine, it returns `“Safe to swim! Enjoy the Isar! 🏊‍♂️”`."
   ],
   "id": "a710041a520f2564"
  },
  {
   "metadata": {
    "ExecuteTime": {
     "end_time": "2025-03-17T11:33:56.545175Z",
     "start_time": "2025-03-17T11:33:56.539327Z"
    }
   },
   "cell_type": "code",
   "source": [
    "def isar_swimming_warning(temp, flow_rate):\n",
    "    if temp < 15 and flow_rate > 300:\n",
    "        return \"Danger! The Isar is too cold and too strong! ⚠️\"\n",
    "    elif temp < 15:\n",
    "        return \"Warning: The Isar is too cold! ❄️\"\n",
    "    elif flow_rate > 300:\n",
    "        return \"Warning: The current is too strong! 🌊\"\n",
    "    else:\n",
    "        return \"Safe to swim! Enjoy the Isar! 🏊‍♂️\"\n"
   ],
   "id": "d36359a841e3ad73",
   "outputs": [],
   "execution_count": 23
  },
  {
   "metadata": {
    "ExecuteTime": {
     "end_time": "2025-03-17T11:33:56.569201Z",
     "start_time": "2025-03-17T11:33:56.564267Z"
    }
   },
   "cell_type": "code",
   "source": [
    "print(isar_swimming_warning(14, 250))  # \"Warning: The Isar is too cold! ❄️\"\n",
    "print(isar_swimming_warning(16, 320))  # \"Warning: The current is too strong! 🌊\"\n",
    "print(isar_swimming_warning(12, 350))  # \"Danger! The Isar is too cold and too strong! ⚠️\"\n",
    "print(isar_swimming_warning(18, 280))  # \"Safe to swim! Enjoy the Isar! 🏊‍♂️\""
   ],
   "id": "b57cfa5a00c137ca",
   "outputs": [
    {
     "name": "stdout",
     "output_type": "stream",
     "text": [
      "Warning: The Isar is too cold! ❄️\n",
      "Warning: The current is too strong! 🌊\n",
      "Danger! The Isar is too cold and too strong! ⚠️\n",
      "Safe to swim! Enjoy the Isar! 🏊‍♂️\n"
     ]
    }
   ],
   "execution_count": 24
  },
  {
   "metadata": {
    "ExecuteTime": {
     "end_time": "2025-03-17T11:33:56.660528Z",
     "start_time": "2025-03-17T11:33:56.654528Z"
    }
   },
   "cell_type": "code",
   "source": "print(isar_swimming_warning(12, 350))",
   "id": "291a14a4a53636f7",
   "outputs": [
    {
     "name": "stdout",
     "output_type": "stream",
     "text": [
      "Danger! The Isar is too cold and too strong! ⚠️\n"
     ]
    }
   ],
   "execution_count": 25
  },
  {
   "metadata": {},
   "cell_type": "markdown",
   "source": [
    "g### Function 3: Flu cases\n",
    "Write a function `flu_cases(city_population, infection_rate, days)` that calculates the number of infected people in in several cities in Bavaria over a certain number of days using a simple exponential formula:\n",
    "\n",
    "$$\n",
    "\\text{Infected} = \\text{City population} \\times \\left( 1 - e^{-\\text{Infection rate} \\times \\text{Days}} \\right)\n",
    "$$\n",
    "\n",
    "- The cities and their populations are stored in two lists:\n",
    "    - city_names: Contains the city name (Munich, Nuremberg, Augsburg).\n",
    "    - populations: Contains the respective population figures (1480000, 530000, 300000).\n",
    "- The infection rate indicates how quickly the disease is spreading (e.g. `0.1` for slow spread, `0.3` for fast spread).\n",
    "- The function should round up the calculated number and output it in a formatted string.\n",
    "\n",
    "Note: `math.exp(-rate * days)` calculates the exponential term."
   ],
   "id": "1565a2837c639146"
  },
  {
   "metadata": {
    "ExecuteTime": {
     "end_time": "2025-03-17T12:30:42.817201Z",
     "start_time": "2025-03-17T12:30:42.810885Z"
    }
   },
   "cell_type": "code",
   "source": [
    "import math\n",
    "city_names = (\"Munich\", \"Nuremberg\", \"Augsburg\")\n",
    "populations = (1480000, 530000, 300000)\n",
    "\n",
    "def flu_cases(city_names, city_populations, infection_rate, days):\n",
    "    flu_dict = {}  # Dictionary to store results\n",
    "    for city, population in zip(city_names, city_populations):\n",
    "        cases = population * math.exp(-infection_rate * days)\n",
    "        flu_dict[city] = round(cases)  # Round to whole numbers\n",
    "    return flu_dict\n",
    "\n",
    "\n",
    "\n"
   ],
   "id": "8614fa0cca264bc7",
   "outputs": [],
   "execution_count": 36
  },
  {
   "metadata": {
    "ExecuteTime": {
     "end_time": "2025-03-17T12:30:44.747337Z",
     "start_time": "2025-03-17T12:30:44.742042Z"
    }
   },
   "cell_type": "code",
   "source": [
    "print(flu_cases(city_names, populations, 0.1, 7))\n",
    "print(flu_cases(city_names, populations, 0.3, 7))"
   ],
   "id": "f88224f7c6e2325a",
   "outputs": [
    {
     "name": "stdout",
     "output_type": "stream",
     "text": [
      "{'Munich': 734946, 'Nuremberg': 263190, 'Augsburg': 148976}\n",
      "{'Munich': 181236, 'Nuremberg': 64902, 'Augsburg': 36737}\n"
     ]
    }
   ],
   "execution_count": 37
  }
 ],
 "metadata": {
  "kernelspec": {
   "display_name": "Python 3",
   "language": "python",
   "name": "python3"
  },
  "language_info": {
   "codemirror_mode": {
    "name": "ipython",
    "version": 2
   },
   "file_extension": ".py",
   "mimetype": "text/x-python",
   "name": "python",
   "nbconvert_exporter": "python",
   "pygments_lexer": "ipython2",
   "version": "2.7.6"
  }
 },
 "nbformat": 4,
 "nbformat_minor": 5
}
