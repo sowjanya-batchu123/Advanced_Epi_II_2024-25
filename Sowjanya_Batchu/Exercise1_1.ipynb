{
 "cells": [
  {
   "metadata": {},
   "cell_type": "markdown",
   "source": [
    "# Munich in Summer ☀️🍺  \n",
    "\n",
    "Munich is undoubtedly one of the most beautiful cities in Germany - **but only in summer!**  \n",
    "While winter is dominated by freezing winds, gray skies, and the eternal question of why you didn't just move to Barcelona, summer turns the city into a paradise.  \n",
    "\n",
    "**Beer gardens are packed**, the Isar river becomes the city's beach, and suddenly everyone acts like winter never happened.  \n",
    "\n",
    "---\n",
    "\n",
    "## 1. The Great Contrast: Munich in Winter vs. Summer 🌨️ → ☀️  \n",
    "\n",
    "> “Munich in winter is like a Weißwurst without mustard - just not right.” – A sane person \n",
    "\n",
    "**Munich in winter:**  \n",
    "- 16 hours of darkness per day  \n",
    "- Every second person suffers from vitamin D deficiency  \n",
    "- The only outdoor activity: sprinting from the U-Bahn to the office  \n",
    "\n",
    "**Munich in summer:**  \n",
    "- Beer gardens are overflowing - even at 2 PM  \n",
    "- Isar surfers put on a show at the Eisbach wave  \n",
    "- Even the grumpiest Munich locals start to smile (well, slightly)  \n",
    "- Temperatures over 30°C – finally, something new to complain about!  \n",
    "\n",
    "---\n",
    "\n",
    "## 2. The 5 Best Things to Do in Munich in Summer  \n",
    "\n",
    "1. **Drink a Radler in a beer garden** 🍺 - There's nothing more Bavarian than enjoying a cold Maß Radler under a chestnut tree.  \n",
    "2. **Grill by the Isar** 🍖 - Munich's unofficial religion: BBQ at Flaucher.  \n",
    "3. **Watch the Eisbach surfers** 🏄 - You'll never try it yourself, but it looks amazing.  \n",
    "4. **Cycle to Lake Ammersee** 🚴 - Because Lake Starnberg is just too crowded.  \n",
    "5. **Complain about tourists in the English Garden** 😅 - A classic local hobby.  \n",
    "\n",
    "![Any picture of Munich](https://www.faszination-bayern.de/media/textbild__992w_webp/faszination-bayern-urlaub-englischer-garten.jpg)\n",
    "\n",
    "---\n",
    "\n",
    "## 3. The Great Beer Formula 🍻  \n",
    "\n",
    "How much beer does a Bavarian family consume on an average evening? Let's calculate!  \n",
    "\n",
    "The formula is:\n",
    "\n",
    "$$ B = P \\times M \\times S $$\n",
    "\n",
    "where:\n",
    "- **\\( B \\)** = Total beer consumed in liters  \n",
    "- **\\( P \\)** = Number of people present  \n",
    "- **\\( M \\)** = Average beer consumption per person (in Maß)  \n",
    "- **\\( S \\)** = Socializing factor (the later the night, the higher)  \n",
    "\n",
    "Let's assume a Bavarian family of **4 people** sits together. Each person drinks an average of **2 Maß** (2 liters). Since the night is long, we set the socializing factor to **1.2**.\n",
    "\n",
    "$$ B = 4 \\times 2 \\times 1.2 $$\n",
    "\n",
    "**Total consumption: 14.4 liters of beer!** 🍻\n",
    "\n",
    "**Key takeaways:**  \n",
    "- An average Bavarian evening produces enough beer consumption to supply half a beer garden.  \n",
    "- The socializing factor increases exponentially with **Bavarian brass band music**.  \n",
    "\n",
    "---\n",
    "\n",
    "## 4. The Best Beer Gardens in Munich 🍺  \n",
    "\n",
    "| Beer Garden        | Seating Capacity | Famous Specialty |\n",
    "|--------------------|-----------------|------------------|\n",
    "| Augustiner-Keller | 5,000            | Augustiner Helles 🍻 |\n",
    "| Hirschgarten      | 8,000            | Maß & Brotzeit 🥨 |\n",
    "| Chinese Tower     | 7,000            | Giant Pretzels 🥨 |\n",
    "| Seehaus           | 2,500            | Radler by the water 🚣 |\n",
    "\n",
    "---\n",
    "\n",
    "## 5. A Simple Python Program to Calculate Beer Consumption  \n",
    "\n",
    "If you ever want to calculate your family's beer consumption, here's a **Python script**:\n",
    "\n",
    "```python\n",
    "def beer_consumption(people, maß_per_person, social_factor):\n",
    "    return people * maß_per_person * social_factor\n",
    "\n",
    "# Example values\n",
    "people = 4\n",
    "maß_per_person = 2\n",
    "social_factor = 1.2\n",
    "\n",
    "print(f\"Total beer consumption: {beer_consumption(people, maß_per_person, social_factor)} liters!\")\n",
    "```\n",
    "\n"
   ],
   "id": "f65de2521e0fdd08"
  },
  {
   "metadata": {},
   "cell_type": "markdown",
   "source": "",
   "id": "310abac8ff15ee43"
  },
  {
   "metadata": {},
   "cell_type": "code",
   "outputs": [],
   "execution_count": null,
   "source": [
    "def beer_consumption(people, maß_per_person, social_factor):\n",
    "    return people * maß_per_person * social_factor\n",
    "\n",
    "# Example values\n",
    "people = 4\n",
    "maß_per_person = 2\n",
    "social_factor = 1.2\n",
    "\n",
    "print(f\"Total beer consumption: {beer_consumption(people, maß_per_person, social_factor)} liters!\")"
   ],
   "id": "b8e0896a9a0b26b4"
  },
  {
   "metadata": {
    "ExecuteTime": {
     "end_time": "2025-03-17T10:21:42.539615Z",
     "start_time": "2025-03-17T10:21:42.534154Z"
    }
   },
   "cell_type": "code",
   "source": [
    "def beer_consumption(people,maß_per_person,social_factor):\n",
    "    return people * maß_per_person * social_factor\n",
    "people = 5\n",
    "maß_per_person =3\n",
    "social_factor = 1.2\n",
    "print(f\"Total beer consumption: {beer_consumption(people,maß_per_person,social_factor)} liters!\")"
   ],
   "id": "a8d1dba2f30c3269",
   "outputs": [
    {
     "name": "stdout",
     "output_type": "stream",
     "text": [
      "Total beer consumption: 18.0 liters!\n"
     ]
    }
   ],
   "execution_count": 4
  },
  {
   "metadata": {
    "ExecuteTime": {
     "end_time": "2025-03-17T10:22:28.280753Z",
     "start_time": "2025-03-17T10:22:28.275725Z"
    }
   },
   "cell_type": "code",
   "source": "print(f\"Total beer consumption: {beer_consumption(6,1,1.5)} liters!\")",
   "id": "a04ca4825fad94ac",
   "outputs": [
    {
     "name": "stdout",
     "output_type": "stream",
     "text": [
      "Total beer consumption: 9.0 liters!\n"
     ]
    }
   ],
   "execution_count": 5
  }
 ],
 "metadata": {
  "kernelspec": {
   "display_name": "Python 3",
   "language": "python",
   "name": "python3"
  },
  "language_info": {
   "codemirror_mode": {
    "name": "ipython",
    "version": 2
   },
   "file_extension": ".py",
   "mimetype": "text/x-python",
   "name": "python",
   "nbconvert_exporter": "python",
   "pygments_lexer": "ipython2",
   "version": "2.7.6"
  }
 },
 "nbformat": 4,
 "nbformat_minor": 5
}
