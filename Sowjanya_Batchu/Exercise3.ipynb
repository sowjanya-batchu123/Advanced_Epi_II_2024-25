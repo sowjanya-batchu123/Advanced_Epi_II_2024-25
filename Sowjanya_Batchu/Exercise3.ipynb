{
 "cells": [
  {
   "metadata": {},
   "cell_type": "markdown",
   "source": [
    "## Exercise: Pandas & NumPy with Student Performance Dataset\n",
    "## Exercise: Pandas & NumPy with Student Performance Dataset\n",
    "\n",
    "You are provided with three separate datasets, all originally derived from a single dataset. However, these datasets have undergone slight modifications through different processes. Your task is to analyze the datasets, identify the differences, and correctly merge them back together.\n",
    "\n",
    "**Important Notes**:\n",
    "- Some column names have been changed and need to be translated back.\n",
    "- Certain categorical variables have altered values (e.g., some categories have been renamed).\n",
    "- Check the distribution of numerical variables, as there may be discrepancies.\n",
    "- Missing values are present in multiple columns and need to be imputed appropriately. Justify your choice of imputation method.\n",
    "- Some columns have been stored in different data types (e.g., numbers as strings). Ensure that data types are correct before merging the datasets.\n",
    "\n",
    "Your Task:\n",
    "1. Load all three datasets into Python.\n",
    "2. Identify differences and discrepancies between the datasets.\n",
    "3. Reconstruct the original dataset by:\n",
    "    - Adjusting column names and data types.\n",
    "    - Correctly merging the datasets.\n",
    "    - Handling missing values (imputation) and justifying your chosen method.\n",
    "4. Save the final dataset as Merged_StudentData.csv.\n",
    "5. Perform hypothesis tests to analyze relationships between the following variables: `Sleep_Hours`, `Exam_Score`, `Internet_Access`, `Hours_Studied`, and `Tutoring_Sessions`."
   ],
   "id": "fb3a056853745392"
  },
  {
   "metadata": {
    "ExecuteTime": {
     "end_time": "2025-04-02T11:07:58.466068Z",
     "start_time": "2025-04-02T11:07:58.435202Z"
    }
   },
   "cell_type": "code",
   "source": [
    "import pandas as pd\n",
    "df1 = pd.read_csv(\"Student Data Part 1 mv.csv\")\n",
    "df2 = pd.read_csv(\"Student Data Part 2 mv.csv\")\n",
    "df3 = pd.read_csv(\"Student Data Part 3 mv.csv\")"
   ],
   "id": "c077638d8b1e6b70",
   "outputs": [],
   "execution_count": 321
  },
  {
   "metadata": {
    "ExecuteTime": {
     "end_time": "2025-04-02T11:07:58.490254Z",
     "start_time": "2025-04-02T11:07:58.471254Z"
    }
   },
   "cell_type": "code",
   "source": "df1",
   "id": "ac1be7f45218bcbb",
   "outputs": [
    {
     "data": {
      "text/plain": [
       "      Student_ID  Study_Hours  Attendance  Rest_Hours Parental_Involvement  \\\n",
       "0              1           23          84         8.0                  Low   \n",
       "1              2           19          64         9.0                  Low   \n",
       "2              3           24          98         8.0               Medium   \n",
       "3              4           29          89         9.0                  Low   \n",
       "4              5           19          92         7.0               Medium   \n",
       "...          ...          ...         ...         ...                  ...   \n",
       "6602        6603           25          69         8.0                 High   \n",
       "6603        6604           23          76         9.0                 High   \n",
       "6604        6605           20          90         7.0               Medium   \n",
       "6605        6606           10          86         7.0                 High   \n",
       "6606        6607           15          67        10.0               Medium   \n",
       "\n",
       "     Access_to_Resources  \n",
       "0                   High  \n",
       "1                 Medium  \n",
       "2                 Medium  \n",
       "3                 Medium  \n",
       "4                 Medium  \n",
       "...                  ...  \n",
       "6602              Medium  \n",
       "6603              Medium  \n",
       "6604                 Low  \n",
       "6605                High  \n",
       "6606                 Low  \n",
       "\n",
       "[6607 rows x 6 columns]"
      ],
      "text/html": [
       "<div>\n",
       "<style scoped>\n",
       "    .dataframe tbody tr th:only-of-type {\n",
       "        vertical-align: middle;\n",
       "    }\n",
       "\n",
       "    .dataframe tbody tr th {\n",
       "        vertical-align: top;\n",
       "    }\n",
       "\n",
       "    .dataframe thead th {\n",
       "        text-align: right;\n",
       "    }\n",
       "</style>\n",
       "<table border=\"1\" class=\"dataframe\">\n",
       "  <thead>\n",
       "    <tr style=\"text-align: right;\">\n",
       "      <th></th>\n",
       "      <th>Student_ID</th>\n",
       "      <th>Study_Hours</th>\n",
       "      <th>Attendance</th>\n",
       "      <th>Rest_Hours</th>\n",
       "      <th>Parental_Involvement</th>\n",
       "      <th>Access_to_Resources</th>\n",
       "    </tr>\n",
       "  </thead>\n",
       "  <tbody>\n",
       "    <tr>\n",
       "      <th>0</th>\n",
       "      <td>1</td>\n",
       "      <td>23</td>\n",
       "      <td>84</td>\n",
       "      <td>8.0</td>\n",
       "      <td>Low</td>\n",
       "      <td>High</td>\n",
       "    </tr>\n",
       "    <tr>\n",
       "      <th>1</th>\n",
       "      <td>2</td>\n",
       "      <td>19</td>\n",
       "      <td>64</td>\n",
       "      <td>9.0</td>\n",
       "      <td>Low</td>\n",
       "      <td>Medium</td>\n",
       "    </tr>\n",
       "    <tr>\n",
       "      <th>2</th>\n",
       "      <td>3</td>\n",
       "      <td>24</td>\n",
       "      <td>98</td>\n",
       "      <td>8.0</td>\n",
       "      <td>Medium</td>\n",
       "      <td>Medium</td>\n",
       "    </tr>\n",
       "    <tr>\n",
       "      <th>3</th>\n",
       "      <td>4</td>\n",
       "      <td>29</td>\n",
       "      <td>89</td>\n",
       "      <td>9.0</td>\n",
       "      <td>Low</td>\n",
       "      <td>Medium</td>\n",
       "    </tr>\n",
       "    <tr>\n",
       "      <th>4</th>\n",
       "      <td>5</td>\n",
       "      <td>19</td>\n",
       "      <td>92</td>\n",
       "      <td>7.0</td>\n",
       "      <td>Medium</td>\n",
       "      <td>Medium</td>\n",
       "    </tr>\n",
       "    <tr>\n",
       "      <th>...</th>\n",
       "      <td>...</td>\n",
       "      <td>...</td>\n",
       "      <td>...</td>\n",
       "      <td>...</td>\n",
       "      <td>...</td>\n",
       "      <td>...</td>\n",
       "    </tr>\n",
       "    <tr>\n",
       "      <th>6602</th>\n",
       "      <td>6603</td>\n",
       "      <td>25</td>\n",
       "      <td>69</td>\n",
       "      <td>8.0</td>\n",
       "      <td>High</td>\n",
       "      <td>Medium</td>\n",
       "    </tr>\n",
       "    <tr>\n",
       "      <th>6603</th>\n",
       "      <td>6604</td>\n",
       "      <td>23</td>\n",
       "      <td>76</td>\n",
       "      <td>9.0</td>\n",
       "      <td>High</td>\n",
       "      <td>Medium</td>\n",
       "    </tr>\n",
       "    <tr>\n",
       "      <th>6604</th>\n",
       "      <td>6605</td>\n",
       "      <td>20</td>\n",
       "      <td>90</td>\n",
       "      <td>7.0</td>\n",
       "      <td>Medium</td>\n",
       "      <td>Low</td>\n",
       "    </tr>\n",
       "    <tr>\n",
       "      <th>6605</th>\n",
       "      <td>6606</td>\n",
       "      <td>10</td>\n",
       "      <td>86</td>\n",
       "      <td>7.0</td>\n",
       "      <td>High</td>\n",
       "      <td>High</td>\n",
       "    </tr>\n",
       "    <tr>\n",
       "      <th>6606</th>\n",
       "      <td>6607</td>\n",
       "      <td>15</td>\n",
       "      <td>67</td>\n",
       "      <td>10.0</td>\n",
       "      <td>Medium</td>\n",
       "      <td>Low</td>\n",
       "    </tr>\n",
       "  </tbody>\n",
       "</table>\n",
       "<p>6607 rows × 6 columns</p>\n",
       "</div>"
      ]
     },
     "execution_count": 322,
     "metadata": {},
     "output_type": "execute_result"
    }
   ],
   "execution_count": 322
  },
  {
   "metadata": {
    "ExecuteTime": {
     "end_time": "2025-04-02T11:07:58.563655Z",
     "start_time": "2025-04-02T11:07:58.536495Z"
    }
   },
   "cell_type": "code",
   "source": [
    "print(df1.info())\n",
    "print(df2.info())\n",
    "print(df3.info())"
   ],
   "id": "c73f597e0d95df46",
   "outputs": [
    {
     "name": "stdout",
     "output_type": "stream",
     "text": [
      "<class 'pandas.core.frame.DataFrame'>\n",
      "RangeIndex: 6607 entries, 0 to 6606\n",
      "Data columns (total 6 columns):\n",
      " #   Column                Non-Null Count  Dtype  \n",
      "---  ------                --------------  -----  \n",
      " 0   Student_ID            6607 non-null   int64  \n",
      " 1   Study_Hours           6607 non-null   int64  \n",
      " 2   Attendance            6607 non-null   int64  \n",
      " 3   Rest_Hours            6277 non-null   float64\n",
      " 4   Parental_Involvement  6607 non-null   object \n",
      " 5   Access_to_Resources   6607 non-null   object \n",
      "dtypes: float64(1), int64(3), object(2)\n",
      "memory usage: 309.8+ KB\n",
      "None\n",
      "<class 'pandas.core.frame.DataFrame'>\n",
      "RangeIndex: 5616 entries, 0 to 5615\n",
      "Data columns (total 7 columns):\n",
      " #   Column             Non-Null Count  Dtype  \n",
      "---  ------             --------------  -----  \n",
      " 0   Unnamed: 0         5616 non-null   int64  \n",
      " 1   Student_ID         5616 non-null   int64  \n",
      " 2   Internet_Access    5335 non-null   object \n",
      " 3   Tutoring_Sessions  5335 non-null   float64\n",
      " 4   Family_Income      5616 non-null   object \n",
      " 5   Teacher_Quality    5550 non-null   object \n",
      " 6   School_Type        5616 non-null   object \n",
      "dtypes: float64(1), int64(2), object(4)\n",
      "memory usage: 307.3+ KB\n",
      "None\n",
      "<class 'pandas.core.frame.DataFrame'>\n",
      "RangeIndex: 6607 entries, 0 to 6606\n",
      "Data columns (total 5 columns):\n",
      " #   Column                    Non-Null Count  Dtype  \n",
      "---  ------                    --------------  -----  \n",
      " 0   Student_ID                6607 non-null   int64  \n",
      " 1   Final_Score               6277 non-null   float64\n",
      " 2   Parental_Education_Level  6517 non-null   object \n",
      " 3   Distance_from_Home        6540 non-null   object \n",
      " 4   Gender                    6607 non-null   object \n",
      "dtypes: float64(1), int64(1), object(3)\n",
      "memory usage: 258.2+ KB\n",
      "None\n"
     ]
    }
   ],
   "execution_count": 323
  },
  {
   "metadata": {},
   "cell_type": "markdown",
   "source": "Student_data1",
   "id": "55e26c123073e45b"
  },
  {
   "metadata": {},
   "cell_type": "markdown",
   "source": "Changing the data types",
   "id": "3c963811d8054b34"
  },
  {
   "metadata": {
    "ExecuteTime": {
     "end_time": "2025-04-02T11:07:58.633891Z",
     "start_time": "2025-04-02T11:07:58.621144Z"
    }
   },
   "cell_type": "code",
   "source": "df1['Student_ID'] = df1['Student_ID'].astype(\"string\")",
   "id": "d0b6f7a6f30d77b3",
   "outputs": [],
   "execution_count": 324
  },
  {
   "metadata": {
    "ExecuteTime": {
     "end_time": "2025-04-02T11:07:58.710039Z",
     "start_time": "2025-04-02T11:07:58.698403Z"
    }
   },
   "cell_type": "code",
   "source": "df1.Access_to_Resources = pd.Categorical(df1.Access_to_Resources,[\"Low\",\"Medium\",\"High\"],ordered=True)",
   "id": "89f41698af4c02d3",
   "outputs": [],
   "execution_count": 325
  },
  {
   "metadata": {
    "ExecuteTime": {
     "end_time": "2025-04-02T11:07:58.839372Z",
     "start_time": "2025-04-02T11:07:58.830554Z"
    }
   },
   "cell_type": "code",
   "source": "df1.Parental_Involvement = pd.Categorical(df1.Parental_Involvement,[\"Low\",\"Medium\",\"High\"],ordered=True)",
   "id": "c70420a34ebfda82",
   "outputs": [],
   "execution_count": 326
  },
  {
   "metadata": {
    "ExecuteTime": {
     "end_time": "2025-04-02T11:07:58.856012Z",
     "start_time": "2025-04-02T11:07:58.844295Z"
    }
   },
   "cell_type": "code",
   "source": "print(df1.dtypes)",
   "id": "baf3b0eb07a174a0",
   "outputs": [
    {
     "name": "stdout",
     "output_type": "stream",
     "text": [
      "Student_ID              string[python]\n",
      "Study_Hours                      int64\n",
      "Attendance                       int64\n",
      "Rest_Hours                     float64\n",
      "Parental_Involvement          category\n",
      "Access_to_Resources           category\n",
      "dtype: object\n"
     ]
    }
   ],
   "execution_count": 327
  },
  {
   "metadata": {},
   "cell_type": "markdown",
   "source": "Renaming the columns",
   "id": "e54d86dc54cb19dc"
  },
  {
   "metadata": {
    "ExecuteTime": {
     "end_time": "2025-04-02T11:07:58.914709Z",
     "start_time": "2025-04-02T11:07:58.906054Z"
    }
   },
   "cell_type": "code",
   "source": "df1 = df1.rename(columns={\"Study_Hours\": \"Hours_studied\",\"Rest_Hours\": \"Sleep_hours\",\"Parental_Involvement\":\"Parental_Support\",\"Access_to_Resources\":\"Resources_access\"})",
   "id": "1229b7b10855f755",
   "outputs": [],
   "execution_count": 328
  },
  {
   "metadata": {},
   "cell_type": "markdown",
   "source": "student_data2",
   "id": "64f6073e0b08fc61"
  },
  {
   "metadata": {
    "ExecuteTime": {
     "end_time": "2025-04-02T11:07:58.977923Z",
     "start_time": "2025-04-02T11:07:58.968807Z"
    }
   },
   "cell_type": "code",
   "source": [
    "df2.set_index(\"Unnamed: 0\", inplace=True)\n",
    "df2.index.name = None\n",
    "df2.sort_index(inplace=True)"
   ],
   "id": "903756e235f6e677",
   "outputs": [],
   "execution_count": 329
  },
  {
   "metadata": {},
   "cell_type": "markdown",
   "source": "changing the data types",
   "id": "f0264b12927ecad3"
  },
  {
   "metadata": {
    "ExecuteTime": {
     "end_time": "2025-04-02T11:07:59.082136Z",
     "start_time": "2025-04-02T11:07:59.071497Z"
    }
   },
   "cell_type": "code",
   "source": "df2['Student_ID'] = df2['Student_ID'].astype(\"string\")",
   "id": "45bd2b3e1bc206c1",
   "outputs": [],
   "execution_count": 330
  },
  {
   "metadata": {
    "ExecuteTime": {
     "end_time": "2025-04-02T11:07:59.099914Z",
     "start_time": "2025-04-02T11:07:59.088617Z"
    }
   },
   "cell_type": "code",
   "source": "df2.Internet_Access = pd.Categorical(df2.Internet_Access,[\"Available\",\"Unavailable\"],ordered=False)",
   "id": "53e4e584bd7bbe34",
   "outputs": [],
   "execution_count": 331
  },
  {
   "metadata": {
    "ExecuteTime": {
     "end_time": "2025-04-02T11:07:59.156927Z",
     "start_time": "2025-04-02T11:07:59.147793Z"
    }
   },
   "cell_type": "code",
   "source": "df2.Family_Income = pd.Categorical(df2.Family_Income,[\"Low\",\"Medium\",\"High\"],ordered=True)",
   "id": "d40d1700a4f71361",
   "outputs": [],
   "execution_count": 332
  },
  {
   "metadata": {
    "ExecuteTime": {
     "end_time": "2025-04-02T11:07:59.205734Z",
     "start_time": "2025-04-02T11:07:59.197161Z"
    }
   },
   "cell_type": "code",
   "source": "df2.Teacher_Quality = pd.Categorical(df2.Teacher_Quality,[\"Low\",\"Medium\",\"High\"],ordered=True)",
   "id": "73fc9dc978011647",
   "outputs": [],
   "execution_count": 333
  },
  {
   "metadata": {
    "ExecuteTime": {
     "end_time": "2025-04-02T11:07:59.248629Z",
     "start_time": "2025-04-02T11:07:59.238805Z"
    }
   },
   "cell_type": "code",
   "source": "df2.School_Type = pd.Categorical(df2.School_Type,[\"Public\",\"Private\"],ordered=False)",
   "id": "586afb050c71076b",
   "outputs": [],
   "execution_count": 334
  },
  {
   "metadata": {
    "ExecuteTime": {
     "end_time": "2025-04-02T11:07:59.301850Z",
     "start_time": "2025-04-02T11:07:59.293013Z"
    }
   },
   "cell_type": "code",
   "source": "df2.dtypes",
   "id": "c4923152814c471a",
   "outputs": [
    {
     "data": {
      "text/plain": [
       "Student_ID           string[python]\n",
       "Internet_Access            category\n",
       "Tutoring_Sessions           float64\n",
       "Family_Income              category\n",
       "Teacher_Quality            category\n",
       "School_Type                category\n",
       "dtype: object"
      ]
     },
     "execution_count": 335,
     "metadata": {},
     "output_type": "execute_result"
    }
   ],
   "execution_count": 335
  },
  {
   "metadata": {
    "ExecuteTime": {
     "end_time": "2025-04-02T11:07:59.416138Z",
     "start_time": "2025-04-02T11:07:59.388667Z"
    }
   },
   "cell_type": "code",
   "source": "df2.rename(columns={\"Tutoring_Sessions\":\"Tutoring_hours\"})",
   "id": "a9cc3b064240353f",
   "outputs": [
    {
     "data": {
      "text/plain": [
       "     Student_ID Internet_Access  Tutoring_hours Family_Income Teacher_Quality  \\\n",
       "0             1       Available             0.0           Low          Medium   \n",
       "1             2       Available             2.0        Medium          Medium   \n",
       "2             3       Available             2.0        Medium          Medium   \n",
       "3             4       Available             1.0        Medium          Medium   \n",
       "5             6       Available             3.0        Medium          Medium   \n",
       "...         ...             ...             ...           ...             ...   \n",
       "6602       6603       Available             1.0          High          Medium   \n",
       "6603       6604       Available             3.0           Low            High   \n",
       "6604       6605       Available             3.0           Low          Medium   \n",
       "6605       6606       Available             2.0           Low          Medium   \n",
       "6606       6607       Available             0.0        Medium          Medium   \n",
       "\n",
       "     School_Type  \n",
       "0         Public  \n",
       "1         Public  \n",
       "2         Public  \n",
       "3         Public  \n",
       "5         Public  \n",
       "...          ...  \n",
       "6602      Public  \n",
       "6603      Public  \n",
       "6604      Public  \n",
       "6605     Private  \n",
       "6606      Public  \n",
       "\n",
       "[5616 rows x 6 columns]"
      ],
      "text/html": [
       "<div>\n",
       "<style scoped>\n",
       "    .dataframe tbody tr th:only-of-type {\n",
       "        vertical-align: middle;\n",
       "    }\n",
       "\n",
       "    .dataframe tbody tr th {\n",
       "        vertical-align: top;\n",
       "    }\n",
       "\n",
       "    .dataframe thead th {\n",
       "        text-align: right;\n",
       "    }\n",
       "</style>\n",
       "<table border=\"1\" class=\"dataframe\">\n",
       "  <thead>\n",
       "    <tr style=\"text-align: right;\">\n",
       "      <th></th>\n",
       "      <th>Student_ID</th>\n",
       "      <th>Internet_Access</th>\n",
       "      <th>Tutoring_hours</th>\n",
       "      <th>Family_Income</th>\n",
       "      <th>Teacher_Quality</th>\n",
       "      <th>School_Type</th>\n",
       "    </tr>\n",
       "  </thead>\n",
       "  <tbody>\n",
       "    <tr>\n",
       "      <th>0</th>\n",
       "      <td>1</td>\n",
       "      <td>Available</td>\n",
       "      <td>0.0</td>\n",
       "      <td>Low</td>\n",
       "      <td>Medium</td>\n",
       "      <td>Public</td>\n",
       "    </tr>\n",
       "    <tr>\n",
       "      <th>1</th>\n",
       "      <td>2</td>\n",
       "      <td>Available</td>\n",
       "      <td>2.0</td>\n",
       "      <td>Medium</td>\n",
       "      <td>Medium</td>\n",
       "      <td>Public</td>\n",
       "    </tr>\n",
       "    <tr>\n",
       "      <th>2</th>\n",
       "      <td>3</td>\n",
       "      <td>Available</td>\n",
       "      <td>2.0</td>\n",
       "      <td>Medium</td>\n",
       "      <td>Medium</td>\n",
       "      <td>Public</td>\n",
       "    </tr>\n",
       "    <tr>\n",
       "      <th>3</th>\n",
       "      <td>4</td>\n",
       "      <td>Available</td>\n",
       "      <td>1.0</td>\n",
       "      <td>Medium</td>\n",
       "      <td>Medium</td>\n",
       "      <td>Public</td>\n",
       "    </tr>\n",
       "    <tr>\n",
       "      <th>5</th>\n",
       "      <td>6</td>\n",
       "      <td>Available</td>\n",
       "      <td>3.0</td>\n",
       "      <td>Medium</td>\n",
       "      <td>Medium</td>\n",
       "      <td>Public</td>\n",
       "    </tr>\n",
       "    <tr>\n",
       "      <th>...</th>\n",
       "      <td>...</td>\n",
       "      <td>...</td>\n",
       "      <td>...</td>\n",
       "      <td>...</td>\n",
       "      <td>...</td>\n",
       "      <td>...</td>\n",
       "    </tr>\n",
       "    <tr>\n",
       "      <th>6602</th>\n",
       "      <td>6603</td>\n",
       "      <td>Available</td>\n",
       "      <td>1.0</td>\n",
       "      <td>High</td>\n",
       "      <td>Medium</td>\n",
       "      <td>Public</td>\n",
       "    </tr>\n",
       "    <tr>\n",
       "      <th>6603</th>\n",
       "      <td>6604</td>\n",
       "      <td>Available</td>\n",
       "      <td>3.0</td>\n",
       "      <td>Low</td>\n",
       "      <td>High</td>\n",
       "      <td>Public</td>\n",
       "    </tr>\n",
       "    <tr>\n",
       "      <th>6604</th>\n",
       "      <td>6605</td>\n",
       "      <td>Available</td>\n",
       "      <td>3.0</td>\n",
       "      <td>Low</td>\n",
       "      <td>Medium</td>\n",
       "      <td>Public</td>\n",
       "    </tr>\n",
       "    <tr>\n",
       "      <th>6605</th>\n",
       "      <td>6606</td>\n",
       "      <td>Available</td>\n",
       "      <td>2.0</td>\n",
       "      <td>Low</td>\n",
       "      <td>Medium</td>\n",
       "      <td>Private</td>\n",
       "    </tr>\n",
       "    <tr>\n",
       "      <th>6606</th>\n",
       "      <td>6607</td>\n",
       "      <td>Available</td>\n",
       "      <td>0.0</td>\n",
       "      <td>Medium</td>\n",
       "      <td>Medium</td>\n",
       "      <td>Public</td>\n",
       "    </tr>\n",
       "  </tbody>\n",
       "</table>\n",
       "<p>5616 rows × 6 columns</p>\n",
       "</div>"
      ]
     },
     "execution_count": 336,
     "metadata": {},
     "output_type": "execute_result"
    }
   ],
   "execution_count": 336
  },
  {
   "metadata": {},
   "cell_type": "markdown",
   "source": "student_data3",
   "id": "6cee604a468292f5"
  },
  {
   "metadata": {},
   "cell_type": "markdown",
   "source": "changing the data types",
   "id": "847ba17c73239ca4"
  },
  {
   "metadata": {
    "ExecuteTime": {
     "end_time": "2025-04-02T11:07:59.534673Z",
     "start_time": "2025-04-02T11:07:59.522615Z"
    }
   },
   "cell_type": "code",
   "source": "df3['Student_ID'] = df3['Student_ID'].astype(\"string\")",
   "id": "b9115785df3c7a65",
   "outputs": [],
   "execution_count": 337
  },
  {
   "metadata": {
    "ExecuteTime": {
     "end_time": "2025-04-02T11:07:59.665405Z",
     "start_time": "2025-04-02T11:07:59.658931Z"
    }
   },
   "cell_type": "code",
   "source": "df3.Gender = pd.Categorical(df3.Gender,[\"Male\",\"Female\"],ordered=False)",
   "id": "4c00a6f8411aef5d",
   "outputs": [],
   "execution_count": 338
  },
  {
   "metadata": {
    "ExecuteTime": {
     "end_time": "2025-04-02T11:07:59.731559Z",
     "start_time": "2025-04-02T11:07:59.724519Z"
    }
   },
   "cell_type": "code",
   "source": "df3.Parental_Education_Level = pd.Categorical(df3.Parental_Education_Level,[\"High School\",\"College\",\"Postgraduate\"],ordered=True)",
   "id": "6ae2a1f9410aeec7",
   "outputs": [],
   "execution_count": 339
  },
  {
   "metadata": {
    "ExecuteTime": {
     "end_time": "2025-04-02T11:07:59.840864Z",
     "start_time": "2025-04-02T11:07:59.831093Z"
    }
   },
   "cell_type": "code",
   "source": "df3.Distance_from_Home = pd.Categorical(df3.Distance_from_Home,[\"Close\",\"Medium\",\"Distant\"],ordered=True)",
   "id": "f04454d5db954f64",
   "outputs": [],
   "execution_count": 340
  },
  {
   "metadata": {},
   "cell_type": "markdown",
   "source": "Renaming the columns",
   "id": "64d6fb02c67979e2"
  },
  {
   "metadata": {
    "ExecuteTime": {
     "end_time": "2025-04-02T11:07:59.865876Z",
     "start_time": "2025-04-02T11:07:59.856946Z"
    }
   },
   "cell_type": "code",
   "source": "df3 = df3.rename(columns={\"Final_Score\": \"Exam_score\",\"Parental_Education_Level\":\"Parental_Education\",\"Distance from Home\":\"Commute_Distance\"})",
   "id": "127b5f8766ca262a",
   "outputs": [],
   "execution_count": 341
  },
  {
   "metadata": {},
   "cell_type": "markdown",
   "source": "Joining the data",
   "id": "c2741d3a3770ced6"
  },
  {
   "metadata": {
    "ExecuteTime": {
     "end_time": "2025-04-02T11:07:59.958104Z",
     "start_time": "2025-04-02T11:07:59.917286Z"
    }
   },
   "cell_type": "code",
   "source": [
    "df_merged = df1.merge(df2, on=\"Student_ID\", how=\"left\")\n",
    "df_merged"
   ],
   "id": "dbcd2e306e5dccb5",
   "outputs": [
    {
     "data": {
      "text/plain": [
       "     Student_ID  Hours_studied  Attendance  Sleep_hours Parental_Support  \\\n",
       "0             1             23          84          8.0              Low   \n",
       "1             2             19          64          9.0              Low   \n",
       "2             3             24          98          8.0           Medium   \n",
       "3             4             29          89          9.0              Low   \n",
       "4             5             19          92          7.0           Medium   \n",
       "...         ...            ...         ...          ...              ...   \n",
       "6602       6603             25          69          8.0             High   \n",
       "6603       6604             23          76          9.0             High   \n",
       "6604       6605             20          90          7.0           Medium   \n",
       "6605       6606             10          86          7.0             High   \n",
       "6606       6607             15          67         10.0           Medium   \n",
       "\n",
       "     Resources_access Internet_Access  Tutoring_Sessions Family_Income  \\\n",
       "0                High       Available                0.0           Low   \n",
       "1              Medium       Available                2.0        Medium   \n",
       "2              Medium       Available                2.0        Medium   \n",
       "3              Medium       Available                1.0        Medium   \n",
       "4              Medium             NaN                NaN           NaN   \n",
       "...               ...             ...                ...           ...   \n",
       "6602           Medium       Available                1.0          High   \n",
       "6603           Medium       Available                3.0           Low   \n",
       "6604              Low       Available                3.0           Low   \n",
       "6605             High       Available                2.0           Low   \n",
       "6606              Low       Available                0.0        Medium   \n",
       "\n",
       "     Teacher_Quality School_Type  \n",
       "0             Medium      Public  \n",
       "1             Medium      Public  \n",
       "2             Medium      Public  \n",
       "3             Medium      Public  \n",
       "4                NaN         NaN  \n",
       "...              ...         ...  \n",
       "6602          Medium      Public  \n",
       "6603            High      Public  \n",
       "6604          Medium      Public  \n",
       "6605          Medium     Private  \n",
       "6606          Medium      Public  \n",
       "\n",
       "[6607 rows x 11 columns]"
      ],
      "text/html": [
       "<div>\n",
       "<style scoped>\n",
       "    .dataframe tbody tr th:only-of-type {\n",
       "        vertical-align: middle;\n",
       "    }\n",
       "\n",
       "    .dataframe tbody tr th {\n",
       "        vertical-align: top;\n",
       "    }\n",
       "\n",
       "    .dataframe thead th {\n",
       "        text-align: right;\n",
       "    }\n",
       "</style>\n",
       "<table border=\"1\" class=\"dataframe\">\n",
       "  <thead>\n",
       "    <tr style=\"text-align: right;\">\n",
       "      <th></th>\n",
       "      <th>Student_ID</th>\n",
       "      <th>Hours_studied</th>\n",
       "      <th>Attendance</th>\n",
       "      <th>Sleep_hours</th>\n",
       "      <th>Parental_Support</th>\n",
       "      <th>Resources_access</th>\n",
       "      <th>Internet_Access</th>\n",
       "      <th>Tutoring_Sessions</th>\n",
       "      <th>Family_Income</th>\n",
       "      <th>Teacher_Quality</th>\n",
       "      <th>School_Type</th>\n",
       "    </tr>\n",
       "  </thead>\n",
       "  <tbody>\n",
       "    <tr>\n",
       "      <th>0</th>\n",
       "      <td>1</td>\n",
       "      <td>23</td>\n",
       "      <td>84</td>\n",
       "      <td>8.0</td>\n",
       "      <td>Low</td>\n",
       "      <td>High</td>\n",
       "      <td>Available</td>\n",
       "      <td>0.0</td>\n",
       "      <td>Low</td>\n",
       "      <td>Medium</td>\n",
       "      <td>Public</td>\n",
       "    </tr>\n",
       "    <tr>\n",
       "      <th>1</th>\n",
       "      <td>2</td>\n",
       "      <td>19</td>\n",
       "      <td>64</td>\n",
       "      <td>9.0</td>\n",
       "      <td>Low</td>\n",
       "      <td>Medium</td>\n",
       "      <td>Available</td>\n",
       "      <td>2.0</td>\n",
       "      <td>Medium</td>\n",
       "      <td>Medium</td>\n",
       "      <td>Public</td>\n",
       "    </tr>\n",
       "    <tr>\n",
       "      <th>2</th>\n",
       "      <td>3</td>\n",
       "      <td>24</td>\n",
       "      <td>98</td>\n",
       "      <td>8.0</td>\n",
       "      <td>Medium</td>\n",
       "      <td>Medium</td>\n",
       "      <td>Available</td>\n",
       "      <td>2.0</td>\n",
       "      <td>Medium</td>\n",
       "      <td>Medium</td>\n",
       "      <td>Public</td>\n",
       "    </tr>\n",
       "    <tr>\n",
       "      <th>3</th>\n",
       "      <td>4</td>\n",
       "      <td>29</td>\n",
       "      <td>89</td>\n",
       "      <td>9.0</td>\n",
       "      <td>Low</td>\n",
       "      <td>Medium</td>\n",
       "      <td>Available</td>\n",
       "      <td>1.0</td>\n",
       "      <td>Medium</td>\n",
       "      <td>Medium</td>\n",
       "      <td>Public</td>\n",
       "    </tr>\n",
       "    <tr>\n",
       "      <th>4</th>\n",
       "      <td>5</td>\n",
       "      <td>19</td>\n",
       "      <td>92</td>\n",
       "      <td>7.0</td>\n",
       "      <td>Medium</td>\n",
       "      <td>Medium</td>\n",
       "      <td>NaN</td>\n",
       "      <td>NaN</td>\n",
       "      <td>NaN</td>\n",
       "      <td>NaN</td>\n",
       "      <td>NaN</td>\n",
       "    </tr>\n",
       "    <tr>\n",
       "      <th>...</th>\n",
       "      <td>...</td>\n",
       "      <td>...</td>\n",
       "      <td>...</td>\n",
       "      <td>...</td>\n",
       "      <td>...</td>\n",
       "      <td>...</td>\n",
       "      <td>...</td>\n",
       "      <td>...</td>\n",
       "      <td>...</td>\n",
       "      <td>...</td>\n",
       "      <td>...</td>\n",
       "    </tr>\n",
       "    <tr>\n",
       "      <th>6602</th>\n",
       "      <td>6603</td>\n",
       "      <td>25</td>\n",
       "      <td>69</td>\n",
       "      <td>8.0</td>\n",
       "      <td>High</td>\n",
       "      <td>Medium</td>\n",
       "      <td>Available</td>\n",
       "      <td>1.0</td>\n",
       "      <td>High</td>\n",
       "      <td>Medium</td>\n",
       "      <td>Public</td>\n",
       "    </tr>\n",
       "    <tr>\n",
       "      <th>6603</th>\n",
       "      <td>6604</td>\n",
       "      <td>23</td>\n",
       "      <td>76</td>\n",
       "      <td>9.0</td>\n",
       "      <td>High</td>\n",
       "      <td>Medium</td>\n",
       "      <td>Available</td>\n",
       "      <td>3.0</td>\n",
       "      <td>Low</td>\n",
       "      <td>High</td>\n",
       "      <td>Public</td>\n",
       "    </tr>\n",
       "    <tr>\n",
       "      <th>6604</th>\n",
       "      <td>6605</td>\n",
       "      <td>20</td>\n",
       "      <td>90</td>\n",
       "      <td>7.0</td>\n",
       "      <td>Medium</td>\n",
       "      <td>Low</td>\n",
       "      <td>Available</td>\n",
       "      <td>3.0</td>\n",
       "      <td>Low</td>\n",
       "      <td>Medium</td>\n",
       "      <td>Public</td>\n",
       "    </tr>\n",
       "    <tr>\n",
       "      <th>6605</th>\n",
       "      <td>6606</td>\n",
       "      <td>10</td>\n",
       "      <td>86</td>\n",
       "      <td>7.0</td>\n",
       "      <td>High</td>\n",
       "      <td>High</td>\n",
       "      <td>Available</td>\n",
       "      <td>2.0</td>\n",
       "      <td>Low</td>\n",
       "      <td>Medium</td>\n",
       "      <td>Private</td>\n",
       "    </tr>\n",
       "    <tr>\n",
       "      <th>6606</th>\n",
       "      <td>6607</td>\n",
       "      <td>15</td>\n",
       "      <td>67</td>\n",
       "      <td>10.0</td>\n",
       "      <td>Medium</td>\n",
       "      <td>Low</td>\n",
       "      <td>Available</td>\n",
       "      <td>0.0</td>\n",
       "      <td>Medium</td>\n",
       "      <td>Medium</td>\n",
       "      <td>Public</td>\n",
       "    </tr>\n",
       "  </tbody>\n",
       "</table>\n",
       "<p>6607 rows × 11 columns</p>\n",
       "</div>"
      ]
     },
     "execution_count": 342,
     "metadata": {},
     "output_type": "execute_result"
    }
   ],
   "execution_count": 342
  },
  {
   "metadata": {
    "ExecuteTime": {
     "end_time": "2025-04-02T11:08:00.157400Z",
     "start_time": "2025-04-02T11:08:00.130748Z"
    }
   },
   "cell_type": "code",
   "source": "df_merged",
   "id": "a71fc86944ab6794",
   "outputs": [
    {
     "data": {
      "text/plain": [
       "     Student_ID  Hours_studied  Attendance  Sleep_hours Parental_Support  \\\n",
       "0             1             23          84          8.0              Low   \n",
       "1             2             19          64          9.0              Low   \n",
       "2             3             24          98          8.0           Medium   \n",
       "3             4             29          89          9.0              Low   \n",
       "4             5             19          92          7.0           Medium   \n",
       "...         ...            ...         ...          ...              ...   \n",
       "6602       6603             25          69          8.0             High   \n",
       "6603       6604             23          76          9.0             High   \n",
       "6604       6605             20          90          7.0           Medium   \n",
       "6605       6606             10          86          7.0             High   \n",
       "6606       6607             15          67         10.0           Medium   \n",
       "\n",
       "     Resources_access Internet_Access  Tutoring_Sessions Family_Income  \\\n",
       "0                High       Available                0.0           Low   \n",
       "1              Medium       Available                2.0        Medium   \n",
       "2              Medium       Available                2.0        Medium   \n",
       "3              Medium       Available                1.0        Medium   \n",
       "4              Medium             NaN                NaN           NaN   \n",
       "...               ...             ...                ...           ...   \n",
       "6602           Medium       Available                1.0          High   \n",
       "6603           Medium       Available                3.0           Low   \n",
       "6604              Low       Available                3.0           Low   \n",
       "6605             High       Available                2.0           Low   \n",
       "6606              Low       Available                0.0        Medium   \n",
       "\n",
       "     Teacher_Quality School_Type  \n",
       "0             Medium      Public  \n",
       "1             Medium      Public  \n",
       "2             Medium      Public  \n",
       "3             Medium      Public  \n",
       "4                NaN         NaN  \n",
       "...              ...         ...  \n",
       "6602          Medium      Public  \n",
       "6603            High      Public  \n",
       "6604          Medium      Public  \n",
       "6605          Medium     Private  \n",
       "6606          Medium      Public  \n",
       "\n",
       "[6607 rows x 11 columns]"
      ],
      "text/html": [
       "<div>\n",
       "<style scoped>\n",
       "    .dataframe tbody tr th:only-of-type {\n",
       "        vertical-align: middle;\n",
       "    }\n",
       "\n",
       "    .dataframe tbody tr th {\n",
       "        vertical-align: top;\n",
       "    }\n",
       "\n",
       "    .dataframe thead th {\n",
       "        text-align: right;\n",
       "    }\n",
       "</style>\n",
       "<table border=\"1\" class=\"dataframe\">\n",
       "  <thead>\n",
       "    <tr style=\"text-align: right;\">\n",
       "      <th></th>\n",
       "      <th>Student_ID</th>\n",
       "      <th>Hours_studied</th>\n",
       "      <th>Attendance</th>\n",
       "      <th>Sleep_hours</th>\n",
       "      <th>Parental_Support</th>\n",
       "      <th>Resources_access</th>\n",
       "      <th>Internet_Access</th>\n",
       "      <th>Tutoring_Sessions</th>\n",
       "      <th>Family_Income</th>\n",
       "      <th>Teacher_Quality</th>\n",
       "      <th>School_Type</th>\n",
       "    </tr>\n",
       "  </thead>\n",
       "  <tbody>\n",
       "    <tr>\n",
       "      <th>0</th>\n",
       "      <td>1</td>\n",
       "      <td>23</td>\n",
       "      <td>84</td>\n",
       "      <td>8.0</td>\n",
       "      <td>Low</td>\n",
       "      <td>High</td>\n",
       "      <td>Available</td>\n",
       "      <td>0.0</td>\n",
       "      <td>Low</td>\n",
       "      <td>Medium</td>\n",
       "      <td>Public</td>\n",
       "    </tr>\n",
       "    <tr>\n",
       "      <th>1</th>\n",
       "      <td>2</td>\n",
       "      <td>19</td>\n",
       "      <td>64</td>\n",
       "      <td>9.0</td>\n",
       "      <td>Low</td>\n",
       "      <td>Medium</td>\n",
       "      <td>Available</td>\n",
       "      <td>2.0</td>\n",
       "      <td>Medium</td>\n",
       "      <td>Medium</td>\n",
       "      <td>Public</td>\n",
       "    </tr>\n",
       "    <tr>\n",
       "      <th>2</th>\n",
       "      <td>3</td>\n",
       "      <td>24</td>\n",
       "      <td>98</td>\n",
       "      <td>8.0</td>\n",
       "      <td>Medium</td>\n",
       "      <td>Medium</td>\n",
       "      <td>Available</td>\n",
       "      <td>2.0</td>\n",
       "      <td>Medium</td>\n",
       "      <td>Medium</td>\n",
       "      <td>Public</td>\n",
       "    </tr>\n",
       "    <tr>\n",
       "      <th>3</th>\n",
       "      <td>4</td>\n",
       "      <td>29</td>\n",
       "      <td>89</td>\n",
       "      <td>9.0</td>\n",
       "      <td>Low</td>\n",
       "      <td>Medium</td>\n",
       "      <td>Available</td>\n",
       "      <td>1.0</td>\n",
       "      <td>Medium</td>\n",
       "      <td>Medium</td>\n",
       "      <td>Public</td>\n",
       "    </tr>\n",
       "    <tr>\n",
       "      <th>4</th>\n",
       "      <td>5</td>\n",
       "      <td>19</td>\n",
       "      <td>92</td>\n",
       "      <td>7.0</td>\n",
       "      <td>Medium</td>\n",
       "      <td>Medium</td>\n",
       "      <td>NaN</td>\n",
       "      <td>NaN</td>\n",
       "      <td>NaN</td>\n",
       "      <td>NaN</td>\n",
       "      <td>NaN</td>\n",
       "    </tr>\n",
       "    <tr>\n",
       "      <th>...</th>\n",
       "      <td>...</td>\n",
       "      <td>...</td>\n",
       "      <td>...</td>\n",
       "      <td>...</td>\n",
       "      <td>...</td>\n",
       "      <td>...</td>\n",
       "      <td>...</td>\n",
       "      <td>...</td>\n",
       "      <td>...</td>\n",
       "      <td>...</td>\n",
       "      <td>...</td>\n",
       "    </tr>\n",
       "    <tr>\n",
       "      <th>6602</th>\n",
       "      <td>6603</td>\n",
       "      <td>25</td>\n",
       "      <td>69</td>\n",
       "      <td>8.0</td>\n",
       "      <td>High</td>\n",
       "      <td>Medium</td>\n",
       "      <td>Available</td>\n",
       "      <td>1.0</td>\n",
       "      <td>High</td>\n",
       "      <td>Medium</td>\n",
       "      <td>Public</td>\n",
       "    </tr>\n",
       "    <tr>\n",
       "      <th>6603</th>\n",
       "      <td>6604</td>\n",
       "      <td>23</td>\n",
       "      <td>76</td>\n",
       "      <td>9.0</td>\n",
       "      <td>High</td>\n",
       "      <td>Medium</td>\n",
       "      <td>Available</td>\n",
       "      <td>3.0</td>\n",
       "      <td>Low</td>\n",
       "      <td>High</td>\n",
       "      <td>Public</td>\n",
       "    </tr>\n",
       "    <tr>\n",
       "      <th>6604</th>\n",
       "      <td>6605</td>\n",
       "      <td>20</td>\n",
       "      <td>90</td>\n",
       "      <td>7.0</td>\n",
       "      <td>Medium</td>\n",
       "      <td>Low</td>\n",
       "      <td>Available</td>\n",
       "      <td>3.0</td>\n",
       "      <td>Low</td>\n",
       "      <td>Medium</td>\n",
       "      <td>Public</td>\n",
       "    </tr>\n",
       "    <tr>\n",
       "      <th>6605</th>\n",
       "      <td>6606</td>\n",
       "      <td>10</td>\n",
       "      <td>86</td>\n",
       "      <td>7.0</td>\n",
       "      <td>High</td>\n",
       "      <td>High</td>\n",
       "      <td>Available</td>\n",
       "      <td>2.0</td>\n",
       "      <td>Low</td>\n",
       "      <td>Medium</td>\n",
       "      <td>Private</td>\n",
       "    </tr>\n",
       "    <tr>\n",
       "      <th>6606</th>\n",
       "      <td>6607</td>\n",
       "      <td>15</td>\n",
       "      <td>67</td>\n",
       "      <td>10.0</td>\n",
       "      <td>Medium</td>\n",
       "      <td>Low</td>\n",
       "      <td>Available</td>\n",
       "      <td>0.0</td>\n",
       "      <td>Medium</td>\n",
       "      <td>Medium</td>\n",
       "      <td>Public</td>\n",
       "    </tr>\n",
       "  </tbody>\n",
       "</table>\n",
       "<p>6607 rows × 11 columns</p>\n",
       "</div>"
      ]
     },
     "execution_count": 343,
     "metadata": {},
     "output_type": "execute_result"
    }
   ],
   "execution_count": 343
  },
  {
   "metadata": {
    "ExecuteTime": {
     "end_time": "2025-04-02T11:08:00.300677Z",
     "start_time": "2025-04-02T11:08:00.284286Z"
    }
   },
   "cell_type": "code",
   "source": "merged_student_data1_df = df_merged.merge(df3, on=\"Student_ID\", how=\"left\")",
   "id": "2ac3b28975316ef7",
   "outputs": [],
   "execution_count": 344
  },
  {
   "metadata": {
    "ExecuteTime": {
     "end_time": "2025-04-02T11:08:00.432114Z",
     "start_time": "2025-04-02T11:08:00.419121Z"
    }
   },
   "cell_type": "code",
   "source": "merged_student_data1_df.columns",
   "id": "a114b563cc8cc741",
   "outputs": [
    {
     "data": {
      "text/plain": [
       "Index(['Student_ID', 'Hours_studied', 'Attendance', 'Sleep_hours',\n",
       "       'Parental_Support', 'Resources_access', 'Internet_Access',\n",
       "       'Tutoring_Sessions', 'Family_Income', 'Teacher_Quality', 'School_Type',\n",
       "       'Exam_score', 'Parental_Education', 'Distance_from_Home', 'Gender'],\n",
       "      dtype='object')"
      ]
     },
     "execution_count": 345,
     "metadata": {},
     "output_type": "execute_result"
    }
   ],
   "execution_count": 345
  },
  {
   "metadata": {
    "ExecuteTime": {
     "end_time": "2025-04-02T11:08:00.549815Z",
     "start_time": "2025-04-02T11:08:00.525176Z"
    }
   },
   "cell_type": "code",
   "source": "merged_student_data1_df",
   "id": "61599a98ad10344a",
   "outputs": [
    {
     "data": {
      "text/plain": [
       "     Student_ID  Hours_studied  Attendance  Sleep_hours Parental_Support  \\\n",
       "0             1             23          84          8.0              Low   \n",
       "1             2             19          64          9.0              Low   \n",
       "2             3             24          98          8.0           Medium   \n",
       "3             4             29          89          9.0              Low   \n",
       "4             5             19          92          7.0           Medium   \n",
       "...         ...            ...         ...          ...              ...   \n",
       "6602       6603             25          69          8.0             High   \n",
       "6603       6604             23          76          9.0             High   \n",
       "6604       6605             20          90          7.0           Medium   \n",
       "6605       6606             10          86          7.0             High   \n",
       "6606       6607             15          67         10.0           Medium   \n",
       "\n",
       "     Resources_access Internet_Access  Tutoring_Sessions Family_Income  \\\n",
       "0                High       Available                0.0           Low   \n",
       "1              Medium       Available                2.0        Medium   \n",
       "2              Medium       Available                2.0        Medium   \n",
       "3              Medium       Available                1.0        Medium   \n",
       "4              Medium             NaN                NaN           NaN   \n",
       "...               ...             ...                ...           ...   \n",
       "6602           Medium       Available                1.0          High   \n",
       "6603           Medium       Available                3.0           Low   \n",
       "6604              Low       Available                3.0           Low   \n",
       "6605             High       Available                2.0           Low   \n",
       "6606              Low       Available                0.0        Medium   \n",
       "\n",
       "     Teacher_Quality School_Type  Exam_score Parental_Education  \\\n",
       "0             Medium      Public        65.0        High School   \n",
       "1             Medium      Public        59.0            College   \n",
       "2             Medium      Public        72.0       Postgraduate   \n",
       "3             Medium      Public        69.0        High School   \n",
       "4                NaN         NaN        68.0            College   \n",
       "...              ...         ...         ...                ...   \n",
       "6602          Medium      Public        66.0        High School   \n",
       "6603            High      Public        67.0        High School   \n",
       "6604          Medium      Public        66.0       Postgraduate   \n",
       "6605          Medium     Private        66.0        High School   \n",
       "6606          Medium      Public        62.0       Postgraduate   \n",
       "\n",
       "     Distance_from_Home  Gender  \n",
       "0                 Close    Male  \n",
       "1                Medium  Female  \n",
       "2                 Close    Male  \n",
       "3                Medium    Male  \n",
       "4                 Close  Female  \n",
       "...                 ...     ...  \n",
       "6602              Close  Female  \n",
       "6603              Close  Female  \n",
       "6604              Close  Female  \n",
       "6605            Distant  Female  \n",
       "6606              Close    Male  \n",
       "\n",
       "[6607 rows x 15 columns]"
      ],
      "text/html": [
       "<div>\n",
       "<style scoped>\n",
       "    .dataframe tbody tr th:only-of-type {\n",
       "        vertical-align: middle;\n",
       "    }\n",
       "\n",
       "    .dataframe tbody tr th {\n",
       "        vertical-align: top;\n",
       "    }\n",
       "\n",
       "    .dataframe thead th {\n",
       "        text-align: right;\n",
       "    }\n",
       "</style>\n",
       "<table border=\"1\" class=\"dataframe\">\n",
       "  <thead>\n",
       "    <tr style=\"text-align: right;\">\n",
       "      <th></th>\n",
       "      <th>Student_ID</th>\n",
       "      <th>Hours_studied</th>\n",
       "      <th>Attendance</th>\n",
       "      <th>Sleep_hours</th>\n",
       "      <th>Parental_Support</th>\n",
       "      <th>Resources_access</th>\n",
       "      <th>Internet_Access</th>\n",
       "      <th>Tutoring_Sessions</th>\n",
       "      <th>Family_Income</th>\n",
       "      <th>Teacher_Quality</th>\n",
       "      <th>School_Type</th>\n",
       "      <th>Exam_score</th>\n",
       "      <th>Parental_Education</th>\n",
       "      <th>Distance_from_Home</th>\n",
       "      <th>Gender</th>\n",
       "    </tr>\n",
       "  </thead>\n",
       "  <tbody>\n",
       "    <tr>\n",
       "      <th>0</th>\n",
       "      <td>1</td>\n",
       "      <td>23</td>\n",
       "      <td>84</td>\n",
       "      <td>8.0</td>\n",
       "      <td>Low</td>\n",
       "      <td>High</td>\n",
       "      <td>Available</td>\n",
       "      <td>0.0</td>\n",
       "      <td>Low</td>\n",
       "      <td>Medium</td>\n",
       "      <td>Public</td>\n",
       "      <td>65.0</td>\n",
       "      <td>High School</td>\n",
       "      <td>Close</td>\n",
       "      <td>Male</td>\n",
       "    </tr>\n",
       "    <tr>\n",
       "      <th>1</th>\n",
       "      <td>2</td>\n",
       "      <td>19</td>\n",
       "      <td>64</td>\n",
       "      <td>9.0</td>\n",
       "      <td>Low</td>\n",
       "      <td>Medium</td>\n",
       "      <td>Available</td>\n",
       "      <td>2.0</td>\n",
       "      <td>Medium</td>\n",
       "      <td>Medium</td>\n",
       "      <td>Public</td>\n",
       "      <td>59.0</td>\n",
       "      <td>College</td>\n",
       "      <td>Medium</td>\n",
       "      <td>Female</td>\n",
       "    </tr>\n",
       "    <tr>\n",
       "      <th>2</th>\n",
       "      <td>3</td>\n",
       "      <td>24</td>\n",
       "      <td>98</td>\n",
       "      <td>8.0</td>\n",
       "      <td>Medium</td>\n",
       "      <td>Medium</td>\n",
       "      <td>Available</td>\n",
       "      <td>2.0</td>\n",
       "      <td>Medium</td>\n",
       "      <td>Medium</td>\n",
       "      <td>Public</td>\n",
       "      <td>72.0</td>\n",
       "      <td>Postgraduate</td>\n",
       "      <td>Close</td>\n",
       "      <td>Male</td>\n",
       "    </tr>\n",
       "    <tr>\n",
       "      <th>3</th>\n",
       "      <td>4</td>\n",
       "      <td>29</td>\n",
       "      <td>89</td>\n",
       "      <td>9.0</td>\n",
       "      <td>Low</td>\n",
       "      <td>Medium</td>\n",
       "      <td>Available</td>\n",
       "      <td>1.0</td>\n",
       "      <td>Medium</td>\n",
       "      <td>Medium</td>\n",
       "      <td>Public</td>\n",
       "      <td>69.0</td>\n",
       "      <td>High School</td>\n",
       "      <td>Medium</td>\n",
       "      <td>Male</td>\n",
       "    </tr>\n",
       "    <tr>\n",
       "      <th>4</th>\n",
       "      <td>5</td>\n",
       "      <td>19</td>\n",
       "      <td>92</td>\n",
       "      <td>7.0</td>\n",
       "      <td>Medium</td>\n",
       "      <td>Medium</td>\n",
       "      <td>NaN</td>\n",
       "      <td>NaN</td>\n",
       "      <td>NaN</td>\n",
       "      <td>NaN</td>\n",
       "      <td>NaN</td>\n",
       "      <td>68.0</td>\n",
       "      <td>College</td>\n",
       "      <td>Close</td>\n",
       "      <td>Female</td>\n",
       "    </tr>\n",
       "    <tr>\n",
       "      <th>...</th>\n",
       "      <td>...</td>\n",
       "      <td>...</td>\n",
       "      <td>...</td>\n",
       "      <td>...</td>\n",
       "      <td>...</td>\n",
       "      <td>...</td>\n",
       "      <td>...</td>\n",
       "      <td>...</td>\n",
       "      <td>...</td>\n",
       "      <td>...</td>\n",
       "      <td>...</td>\n",
       "      <td>...</td>\n",
       "      <td>...</td>\n",
       "      <td>...</td>\n",
       "      <td>...</td>\n",
       "    </tr>\n",
       "    <tr>\n",
       "      <th>6602</th>\n",
       "      <td>6603</td>\n",
       "      <td>25</td>\n",
       "      <td>69</td>\n",
       "      <td>8.0</td>\n",
       "      <td>High</td>\n",
       "      <td>Medium</td>\n",
       "      <td>Available</td>\n",
       "      <td>1.0</td>\n",
       "      <td>High</td>\n",
       "      <td>Medium</td>\n",
       "      <td>Public</td>\n",
       "      <td>66.0</td>\n",
       "      <td>High School</td>\n",
       "      <td>Close</td>\n",
       "      <td>Female</td>\n",
       "    </tr>\n",
       "    <tr>\n",
       "      <th>6603</th>\n",
       "      <td>6604</td>\n",
       "      <td>23</td>\n",
       "      <td>76</td>\n",
       "      <td>9.0</td>\n",
       "      <td>High</td>\n",
       "      <td>Medium</td>\n",
       "      <td>Available</td>\n",
       "      <td>3.0</td>\n",
       "      <td>Low</td>\n",
       "      <td>High</td>\n",
       "      <td>Public</td>\n",
       "      <td>67.0</td>\n",
       "      <td>High School</td>\n",
       "      <td>Close</td>\n",
       "      <td>Female</td>\n",
       "    </tr>\n",
       "    <tr>\n",
       "      <th>6604</th>\n",
       "      <td>6605</td>\n",
       "      <td>20</td>\n",
       "      <td>90</td>\n",
       "      <td>7.0</td>\n",
       "      <td>Medium</td>\n",
       "      <td>Low</td>\n",
       "      <td>Available</td>\n",
       "      <td>3.0</td>\n",
       "      <td>Low</td>\n",
       "      <td>Medium</td>\n",
       "      <td>Public</td>\n",
       "      <td>66.0</td>\n",
       "      <td>Postgraduate</td>\n",
       "      <td>Close</td>\n",
       "      <td>Female</td>\n",
       "    </tr>\n",
       "    <tr>\n",
       "      <th>6605</th>\n",
       "      <td>6606</td>\n",
       "      <td>10</td>\n",
       "      <td>86</td>\n",
       "      <td>7.0</td>\n",
       "      <td>High</td>\n",
       "      <td>High</td>\n",
       "      <td>Available</td>\n",
       "      <td>2.0</td>\n",
       "      <td>Low</td>\n",
       "      <td>Medium</td>\n",
       "      <td>Private</td>\n",
       "      <td>66.0</td>\n",
       "      <td>High School</td>\n",
       "      <td>Distant</td>\n",
       "      <td>Female</td>\n",
       "    </tr>\n",
       "    <tr>\n",
       "      <th>6606</th>\n",
       "      <td>6607</td>\n",
       "      <td>15</td>\n",
       "      <td>67</td>\n",
       "      <td>10.0</td>\n",
       "      <td>Medium</td>\n",
       "      <td>Low</td>\n",
       "      <td>Available</td>\n",
       "      <td>0.0</td>\n",
       "      <td>Medium</td>\n",
       "      <td>Medium</td>\n",
       "      <td>Public</td>\n",
       "      <td>62.0</td>\n",
       "      <td>Postgraduate</td>\n",
       "      <td>Close</td>\n",
       "      <td>Male</td>\n",
       "    </tr>\n",
       "  </tbody>\n",
       "</table>\n",
       "<p>6607 rows × 15 columns</p>\n",
       "</div>"
      ]
     },
     "execution_count": 346,
     "metadata": {},
     "output_type": "execute_result"
    }
   ],
   "execution_count": 346
  },
  {
   "metadata": {
    "ExecuteTime": {
     "end_time": "2025-04-02T11:08:00.703603Z",
     "start_time": "2025-04-02T11:08:00.689536Z"
    }
   },
   "cell_type": "code",
   "source": "merged_student_data1_df.isnull().sum()",
   "id": "5e9875530e0be322",
   "outputs": [
    {
     "data": {
      "text/plain": [
       "Student_ID               0\n",
       "Hours_studied            0\n",
       "Attendance               0\n",
       "Sleep_hours            330\n",
       "Parental_Support         0\n",
       "Resources_access         0\n",
       "Internet_Access       1272\n",
       "Tutoring_Sessions     1272\n",
       "Family_Income          991\n",
       "Teacher_Quality       1057\n",
       "School_Type            991\n",
       "Exam_score             330\n",
       "Parental_Education      90\n",
       "Distance_from_Home      67\n",
       "Gender                   0\n",
       "dtype: int64"
      ]
     },
     "execution_count": 347,
     "metadata": {},
     "output_type": "execute_result"
    }
   ],
   "execution_count": 347
  },
  {
   "metadata": {
    "ExecuteTime": {
     "end_time": "2025-04-02T11:12:45.584487Z",
     "start_time": "2025-04-02T11:12:45.531421Z"
    }
   },
   "cell_type": "code",
   "source": "merged_student_data1_df.to_csv(\"merged_student_data1.csv\", index=False)",
   "id": "79b51992c40749e",
   "outputs": [],
   "execution_count": 377
  },
  {
   "metadata": {
    "ExecuteTime": {
     "end_time": "2025-04-02T11:08:00.926415Z",
     "start_time": "2025-04-02T11:08:00.904651Z"
    }
   },
   "cell_type": "code",
   "source": "merged_student_data1_df",
   "id": "76ec138b66f5d0cd",
   "outputs": [
    {
     "data": {
      "text/plain": [
       "     Student_ID  Hours_studied  Attendance  Sleep_hours Parental_Support  \\\n",
       "0             1             23          84          8.0              Low   \n",
       "1             2             19          64          9.0              Low   \n",
       "2             3             24          98          8.0           Medium   \n",
       "3             4             29          89          9.0              Low   \n",
       "4             5             19          92          7.0           Medium   \n",
       "...         ...            ...         ...          ...              ...   \n",
       "6602       6603             25          69          8.0             High   \n",
       "6603       6604             23          76          9.0             High   \n",
       "6604       6605             20          90          7.0           Medium   \n",
       "6605       6606             10          86          7.0             High   \n",
       "6606       6607             15          67         10.0           Medium   \n",
       "\n",
       "     Resources_access Internet_Access  Tutoring_Sessions Family_Income  \\\n",
       "0                High       Available                0.0           Low   \n",
       "1              Medium       Available                2.0        Medium   \n",
       "2              Medium       Available                2.0        Medium   \n",
       "3              Medium       Available                1.0        Medium   \n",
       "4              Medium             NaN                NaN           NaN   \n",
       "...               ...             ...                ...           ...   \n",
       "6602           Medium       Available                1.0          High   \n",
       "6603           Medium       Available                3.0           Low   \n",
       "6604              Low       Available                3.0           Low   \n",
       "6605             High       Available                2.0           Low   \n",
       "6606              Low       Available                0.0        Medium   \n",
       "\n",
       "     Teacher_Quality School_Type  Exam_score Parental_Education  \\\n",
       "0             Medium      Public        65.0        High School   \n",
       "1             Medium      Public        59.0            College   \n",
       "2             Medium      Public        72.0       Postgraduate   \n",
       "3             Medium      Public        69.0        High School   \n",
       "4                NaN         NaN        68.0            College   \n",
       "...              ...         ...         ...                ...   \n",
       "6602          Medium      Public        66.0        High School   \n",
       "6603            High      Public        67.0        High School   \n",
       "6604          Medium      Public        66.0       Postgraduate   \n",
       "6605          Medium     Private        66.0        High School   \n",
       "6606          Medium      Public        62.0       Postgraduate   \n",
       "\n",
       "     Distance_from_Home  Gender  \n",
       "0                 Close    Male  \n",
       "1                Medium  Female  \n",
       "2                 Close    Male  \n",
       "3                Medium    Male  \n",
       "4                 Close  Female  \n",
       "...                 ...     ...  \n",
       "6602              Close  Female  \n",
       "6603              Close  Female  \n",
       "6604              Close  Female  \n",
       "6605            Distant  Female  \n",
       "6606              Close    Male  \n",
       "\n",
       "[6607 rows x 15 columns]"
      ],
      "text/html": [
       "<div>\n",
       "<style scoped>\n",
       "    .dataframe tbody tr th:only-of-type {\n",
       "        vertical-align: middle;\n",
       "    }\n",
       "\n",
       "    .dataframe tbody tr th {\n",
       "        vertical-align: top;\n",
       "    }\n",
       "\n",
       "    .dataframe thead th {\n",
       "        text-align: right;\n",
       "    }\n",
       "</style>\n",
       "<table border=\"1\" class=\"dataframe\">\n",
       "  <thead>\n",
       "    <tr style=\"text-align: right;\">\n",
       "      <th></th>\n",
       "      <th>Student_ID</th>\n",
       "      <th>Hours_studied</th>\n",
       "      <th>Attendance</th>\n",
       "      <th>Sleep_hours</th>\n",
       "      <th>Parental_Support</th>\n",
       "      <th>Resources_access</th>\n",
       "      <th>Internet_Access</th>\n",
       "      <th>Tutoring_Sessions</th>\n",
       "      <th>Family_Income</th>\n",
       "      <th>Teacher_Quality</th>\n",
       "      <th>School_Type</th>\n",
       "      <th>Exam_score</th>\n",
       "      <th>Parental_Education</th>\n",
       "      <th>Distance_from_Home</th>\n",
       "      <th>Gender</th>\n",
       "    </tr>\n",
       "  </thead>\n",
       "  <tbody>\n",
       "    <tr>\n",
       "      <th>0</th>\n",
       "      <td>1</td>\n",
       "      <td>23</td>\n",
       "      <td>84</td>\n",
       "      <td>8.0</td>\n",
       "      <td>Low</td>\n",
       "      <td>High</td>\n",
       "      <td>Available</td>\n",
       "      <td>0.0</td>\n",
       "      <td>Low</td>\n",
       "      <td>Medium</td>\n",
       "      <td>Public</td>\n",
       "      <td>65.0</td>\n",
       "      <td>High School</td>\n",
       "      <td>Close</td>\n",
       "      <td>Male</td>\n",
       "    </tr>\n",
       "    <tr>\n",
       "      <th>1</th>\n",
       "      <td>2</td>\n",
       "      <td>19</td>\n",
       "      <td>64</td>\n",
       "      <td>9.0</td>\n",
       "      <td>Low</td>\n",
       "      <td>Medium</td>\n",
       "      <td>Available</td>\n",
       "      <td>2.0</td>\n",
       "      <td>Medium</td>\n",
       "      <td>Medium</td>\n",
       "      <td>Public</td>\n",
       "      <td>59.0</td>\n",
       "      <td>College</td>\n",
       "      <td>Medium</td>\n",
       "      <td>Female</td>\n",
       "    </tr>\n",
       "    <tr>\n",
       "      <th>2</th>\n",
       "      <td>3</td>\n",
       "      <td>24</td>\n",
       "      <td>98</td>\n",
       "      <td>8.0</td>\n",
       "      <td>Medium</td>\n",
       "      <td>Medium</td>\n",
       "      <td>Available</td>\n",
       "      <td>2.0</td>\n",
       "      <td>Medium</td>\n",
       "      <td>Medium</td>\n",
       "      <td>Public</td>\n",
       "      <td>72.0</td>\n",
       "      <td>Postgraduate</td>\n",
       "      <td>Close</td>\n",
       "      <td>Male</td>\n",
       "    </tr>\n",
       "    <tr>\n",
       "      <th>3</th>\n",
       "      <td>4</td>\n",
       "      <td>29</td>\n",
       "      <td>89</td>\n",
       "      <td>9.0</td>\n",
       "      <td>Low</td>\n",
       "      <td>Medium</td>\n",
       "      <td>Available</td>\n",
       "      <td>1.0</td>\n",
       "      <td>Medium</td>\n",
       "      <td>Medium</td>\n",
       "      <td>Public</td>\n",
       "      <td>69.0</td>\n",
       "      <td>High School</td>\n",
       "      <td>Medium</td>\n",
       "      <td>Male</td>\n",
       "    </tr>\n",
       "    <tr>\n",
       "      <th>4</th>\n",
       "      <td>5</td>\n",
       "      <td>19</td>\n",
       "      <td>92</td>\n",
       "      <td>7.0</td>\n",
       "      <td>Medium</td>\n",
       "      <td>Medium</td>\n",
       "      <td>NaN</td>\n",
       "      <td>NaN</td>\n",
       "      <td>NaN</td>\n",
       "      <td>NaN</td>\n",
       "      <td>NaN</td>\n",
       "      <td>68.0</td>\n",
       "      <td>College</td>\n",
       "      <td>Close</td>\n",
       "      <td>Female</td>\n",
       "    </tr>\n",
       "    <tr>\n",
       "      <th>...</th>\n",
       "      <td>...</td>\n",
       "      <td>...</td>\n",
       "      <td>...</td>\n",
       "      <td>...</td>\n",
       "      <td>...</td>\n",
       "      <td>...</td>\n",
       "      <td>...</td>\n",
       "      <td>...</td>\n",
       "      <td>...</td>\n",
       "      <td>...</td>\n",
       "      <td>...</td>\n",
       "      <td>...</td>\n",
       "      <td>...</td>\n",
       "      <td>...</td>\n",
       "      <td>...</td>\n",
       "    </tr>\n",
       "    <tr>\n",
       "      <th>6602</th>\n",
       "      <td>6603</td>\n",
       "      <td>25</td>\n",
       "      <td>69</td>\n",
       "      <td>8.0</td>\n",
       "      <td>High</td>\n",
       "      <td>Medium</td>\n",
       "      <td>Available</td>\n",
       "      <td>1.0</td>\n",
       "      <td>High</td>\n",
       "      <td>Medium</td>\n",
       "      <td>Public</td>\n",
       "      <td>66.0</td>\n",
       "      <td>High School</td>\n",
       "      <td>Close</td>\n",
       "      <td>Female</td>\n",
       "    </tr>\n",
       "    <tr>\n",
       "      <th>6603</th>\n",
       "      <td>6604</td>\n",
       "      <td>23</td>\n",
       "      <td>76</td>\n",
       "      <td>9.0</td>\n",
       "      <td>High</td>\n",
       "      <td>Medium</td>\n",
       "      <td>Available</td>\n",
       "      <td>3.0</td>\n",
       "      <td>Low</td>\n",
       "      <td>High</td>\n",
       "      <td>Public</td>\n",
       "      <td>67.0</td>\n",
       "      <td>High School</td>\n",
       "      <td>Close</td>\n",
       "      <td>Female</td>\n",
       "    </tr>\n",
       "    <tr>\n",
       "      <th>6604</th>\n",
       "      <td>6605</td>\n",
       "      <td>20</td>\n",
       "      <td>90</td>\n",
       "      <td>7.0</td>\n",
       "      <td>Medium</td>\n",
       "      <td>Low</td>\n",
       "      <td>Available</td>\n",
       "      <td>3.0</td>\n",
       "      <td>Low</td>\n",
       "      <td>Medium</td>\n",
       "      <td>Public</td>\n",
       "      <td>66.0</td>\n",
       "      <td>Postgraduate</td>\n",
       "      <td>Close</td>\n",
       "      <td>Female</td>\n",
       "    </tr>\n",
       "    <tr>\n",
       "      <th>6605</th>\n",
       "      <td>6606</td>\n",
       "      <td>10</td>\n",
       "      <td>86</td>\n",
       "      <td>7.0</td>\n",
       "      <td>High</td>\n",
       "      <td>High</td>\n",
       "      <td>Available</td>\n",
       "      <td>2.0</td>\n",
       "      <td>Low</td>\n",
       "      <td>Medium</td>\n",
       "      <td>Private</td>\n",
       "      <td>66.0</td>\n",
       "      <td>High School</td>\n",
       "      <td>Distant</td>\n",
       "      <td>Female</td>\n",
       "    </tr>\n",
       "    <tr>\n",
       "      <th>6606</th>\n",
       "      <td>6607</td>\n",
       "      <td>15</td>\n",
       "      <td>67</td>\n",
       "      <td>10.0</td>\n",
       "      <td>Medium</td>\n",
       "      <td>Low</td>\n",
       "      <td>Available</td>\n",
       "      <td>0.0</td>\n",
       "      <td>Medium</td>\n",
       "      <td>Medium</td>\n",
       "      <td>Public</td>\n",
       "      <td>62.0</td>\n",
       "      <td>Postgraduate</td>\n",
       "      <td>Close</td>\n",
       "      <td>Male</td>\n",
       "    </tr>\n",
       "  </tbody>\n",
       "</table>\n",
       "<p>6607 rows × 15 columns</p>\n",
       "</div>"
      ]
     },
     "execution_count": 349,
     "metadata": {},
     "output_type": "execute_result"
    }
   ],
   "execution_count": 349
  },
  {
   "metadata": {},
   "cell_type": "markdown",
   "source": "counting the missing values",
   "id": "ce42ff34952d959"
  },
  {
   "metadata": {
    "ExecuteTime": {
     "end_time": "2025-04-02T11:08:01.026380Z",
     "start_time": "2025-04-02T11:08:01.004611Z"
    }
   },
   "cell_type": "code",
   "source": [
    "missing_percent =merged_student_data1_df.isnull().sum() / len(merged_student_data_df) * 100\n",
    "print(missing_percent)"
   ],
   "id": "1eece294f316b1e5",
   "outputs": [
    {
     "name": "stdout",
     "output_type": "stream",
     "text": [
      "Student_ID                 0.0\n",
      "Hours_studied              0.0\n",
      "Attendance                 0.0\n",
      "Sleep_hours            33000.0\n",
      "Parental_Support           0.0\n",
      "Resources_access           0.0\n",
      "Internet_Access       127200.0\n",
      "Tutoring_Sessions     127200.0\n",
      "Family_Income          99100.0\n",
      "Teacher_Quality       105700.0\n",
      "School_Type            99100.0\n",
      "Exam_score             33000.0\n",
      "Parental_Education      9000.0\n",
      "Distance_from_Home      6700.0\n",
      "Gender                     0.0\n",
      "dtype: float64\n"
     ]
    }
   ],
   "execution_count": 350
  },
  {
   "metadata": {},
   "cell_type": "markdown",
   "source": "Visualize the missing data",
   "id": "8aff01c04f94f1c3"
  },
  {
   "metadata": {
    "ExecuteTime": {
     "end_time": "2025-04-02T11:08:01.770241Z",
     "start_time": "2025-04-02T11:08:01.184664Z"
    }
   },
   "cell_type": "code",
   "source": [
    "import seaborn as sns\n",
    "import matplotlib.pyplot as plt\n",
    "\n",
    "plt.figure(figsize=(10,6))\n",
    "sns.heatmap(merged_student_data1_df.isnull(), cmap=\"viridis\", cbar=False)\n",
    "plt.title(\"Missing Values Heatmap\")\n",
    "plt.show()"
   ],
   "id": "cf6175166ab1edb4",
   "outputs": [
    {
     "data": {
      "text/plain": [
       "<Figure size 1000x600 with 1 Axes>"
      ],
      "image/png": "[encoded data removed]"
     },
     "metadata": {},
     "output_type": "display_data"
    }
   ],
   "execution_count": 351
  },
  {
   "metadata": {},
   "cell_type": "markdown",
   "source": "Handling the missing values for sleep hours by mean imputation since the distribution is normal and the percentage of missing is less than 5%",
   "id": "2e6609739c058213"
  },
  {
   "metadata": {
    "ExecuteTime": {
     "end_time": "2025-04-02T11:08:58.465472Z",
     "start_time": "2025-04-02T11:08:58.454516Z"
    }
   },
   "cell_type": "code",
   "source": [
    "from sklearn.impute import SimpleImputer\n",
    "import pandas as pd\n",
    "\n",
    "imputer = SimpleImputer(strategy='mean')\n",
    "\n",
    "merged_student_data1_df[['Sleep_hours']] = imputer.fit_transform(merged_student_data1_df[['Sleep_hours']])"
   ],
   "id": "e43199f7eb64e88d",
   "outputs": [],
   "execution_count": 353
  },
  {
   "metadata": {},
   "cell_type": "markdown",
   "source": "Handling the missing values for Exam score by median imputation.since the distribution is skewed and missingness is less than 5%",
   "id": "14bb4dd2a065737d"
  },
  {
   "metadata": {
    "ExecuteTime": {
     "end_time": "2025-04-02T11:09:02.309604Z",
     "start_time": "2025-04-02T11:09:02.297121Z"
    }
   },
   "cell_type": "code",
   "source": [
    "imputer = SimpleImputer(strategy='median')\n",
    "\n",
    "merged_student_data1_df[['Exam_score']] = imputer.fit_transform(merged_student_data1_df[['Exam_score']])"
   ],
   "id": "4ece811564ed79da",
   "outputs": [],
   "execution_count": 354
  },
  {
   "metadata": {
    "ExecuteTime": {
     "end_time": "2025-04-02T11:09:06.256119Z",
     "start_time": "2025-04-02T11:09:06.240978Z"
    }
   },
   "cell_type": "code",
   "source": "print(merged_student_data1_df.isnull().sum())",
   "id": "6622a799ceb4cf39",
   "outputs": [
    {
     "name": "stdout",
     "output_type": "stream",
     "text": [
      "Student_ID               0\n",
      "Hours_studied            0\n",
      "Attendance               0\n",
      "Sleep_hours              0\n",
      "Parental_Support         0\n",
      "Resources_access         0\n",
      "Internet_Access       1272\n",
      "Tutoring_Sessions     1272\n",
      "Family_Income          991\n",
      "Teacher_Quality       1057\n",
      "School_Type            991\n",
      "Exam_score               0\n",
      "Parental_Education      90\n",
      "Distance_from_Home      67\n",
      "Gender                   0\n",
      "dtype: int64\n"
     ]
    }
   ],
   "execution_count": 355
  },
  {
   "metadata": {
    "ExecuteTime": {
     "end_time": "2025-04-02T11:09:12.053697Z",
     "start_time": "2025-04-02T11:09:12.047186Z"
    }
   },
   "cell_type": "code",
   "source": "categorical_vars = [\"Internet_Access\",\"Tutoring_Sessions\",\"Family_Income\",\"School_Type\",\"Teacher_Quality\",\"Distance_from_Home\",\"Parental_Education\",\"Gender\",\"Parental_Support\",\"Resources_access\"]",
   "id": "7e06e1757a5bf728",
   "outputs": [],
   "execution_count": 356
  },
  {
   "metadata": {},
   "cell_type": "markdown",
   "source": "For other categorical variables I use mode as method of imputation",
   "id": "c50013acd3dff34c"
  },
  {
   "metadata": {
    "ExecuteTime": {
     "end_time": "2025-04-02T11:09:24.491258Z",
     "start_time": "2025-04-02T11:09:24.476247Z"
    }
   },
   "cell_type": "code",
   "source": [
    "for col in categorical_vars:\n",
    "  merged_student_data1_df[col] = merged_student_data1_df[col].fillna(merged_student_data1_df[col].mode()[0])\n"
   ],
   "id": "f714caf1151655ef",
   "outputs": [],
   "execution_count": 358
  },
  {
   "metadata": {
    "ExecuteTime": {
     "end_time": "2025-04-02T11:09:26.508955Z",
     "start_time": "2025-04-02T11:09:26.492216Z"
    }
   },
   "cell_type": "code",
   "source": "merged_student_data1_df.isnull().sum()",
   "id": "c1ca368b70929268",
   "outputs": [
    {
     "data": {
      "text/plain": [
       "Student_ID            0\n",
       "Hours_studied         0\n",
       "Attendance            0\n",
       "Sleep_hours           0\n",
       "Parental_Support      0\n",
       "Resources_access      0\n",
       "Internet_Access       0\n",
       "Tutoring_Sessions     0\n",
       "Family_Income         0\n",
       "Teacher_Quality       0\n",
       "School_Type           0\n",
       "Exam_score            0\n",
       "Parental_Education    0\n",
       "Distance_from_Home    0\n",
       "Gender                0\n",
       "dtype: int64"
      ]
     },
     "execution_count": 359,
     "metadata": {},
     "output_type": "execute_result"
    }
   ],
   "execution_count": 359
  },
  {
   "metadata": {
    "ExecuteTime": {
     "end_time": "2025-04-02T11:09:37.191375Z",
     "start_time": "2025-04-02T11:09:37.181824Z"
    }
   },
   "cell_type": "code",
   "source": "merged_student_data1_df.dtypes",
   "id": "fe39c00b672907f0",
   "outputs": [
    {
     "data": {
      "text/plain": [
       "Student_ID            string[python]\n",
       "Hours_studied                  int64\n",
       "Attendance                     int64\n",
       "Sleep_hours                  float64\n",
       "Parental_Support            category\n",
       "Resources_access            category\n",
       "Internet_Access             category\n",
       "Tutoring_Sessions            float64\n",
       "Family_Income               category\n",
       "Teacher_Quality             category\n",
       "School_Type                 category\n",
       "Exam_score                   float64\n",
       "Parental_Education          category\n",
       "Distance_from_Home          category\n",
       "Gender                      category\n",
       "dtype: object"
      ]
     },
     "execution_count": 360,
     "metadata": {},
     "output_type": "execute_result"
    }
   ],
   "execution_count": 360
  },
  {
   "metadata": {},
   "cell_type": "markdown",
   "source": [
    "### Hypotheses testing\n",
    "\n",
    "Hypothesis 1: There is a positive correlation between the number of hours of sleep (Sleep_Hours) and the exam grade (Exam_Score).\n",
    "- Remove potential outliers (e.g. students who sleep extremely little or extremely much, i.e. top and bottom 3 %).\n",
    "- First check whether the variables are normally distributed. If not, apply Spearman correlation."
   ],
   "id": "f2e28515a6e718f1"
  },
  {
   "metadata": {
    "ExecuteTime": {
     "end_time": "2025-04-02T11:10:18.380651Z",
     "start_time": "2025-04-02T11:10:18.374314Z"
    }
   },
   "cell_type": "code",
   "source": [
    "import numpy as np\n",
    "import scipy.stats as stats\n",
    "import matplotlib.pyplot as plt\n",
    "import seaborn as sns\n"
   ],
   "id": "290fe3a9cb4f9f67",
   "outputs": [],
   "execution_count": 362
  },
  {
   "metadata": {
    "ExecuteTime": {
     "end_time": "2025-04-02T11:10:22.710086Z",
     "start_time": "2025-04-02T11:10:22.700222Z"
    }
   },
   "cell_type": "code",
   "source": [
    "# Removing the potential outliers\n",
    "lower_bound = merged_student_data1_df[\"Sleep_hours\"].quantile(0.03)\n",
    "upper_bound = merged_student_data1_df[\"Sleep_hours\"].quantile(0.97)\n",
    "merged_student_data1_df= merged_student_data1_df[(merged_student_data1_df['Sleep_hours'] >= lower_bound) & (merged_student_data1_df['Sleep_hours'] <= upper_bound)]"
   ],
   "id": "4d44dec1ecbb43c2",
   "outputs": [],
   "execution_count": 363
  },
  {
   "metadata": {
    "ExecuteTime": {
     "end_time": "2025-04-02T11:10:24.558343Z",
     "start_time": "2025-04-02T11:10:24.039634Z"
    }
   },
   "cell_type": "code",
   "source": [
    "#Checking the normality\n",
    "plt.figure(figsize=(12,5))\n",
    "#Sleep Hours Distribution\n",
    "plt.subplot(1,2,1)\n",
    "sns.histplot(merged_student_data1_df[\"Sleep_hours\"],kde=True,bins=20)\n",
    "plt.title(\"Histogram of Sleep hours\")"
   ],
   "id": "c1608e6dfd58d444",
   "outputs": [
    {
     "data": {
      "text/plain": [
       "Text(0.5, 1.0, 'Histogram of Sleep hours')"
      ]
     },
     "execution_count": 364,
     "metadata": {},
     "output_type": "execute_result"
    },
    {
     "data": {
      "text/plain": [
       "<Figure size 1200x500 with 1 Axes>"
      ],
      "image/png": "[encoded data removed]"
     },
     "metadata": {},
     "output_type": "display_data"
    }
   ],
   "execution_count": 364
  },
  {
   "metadata": {
    "ExecuteTime": {
     "end_time": "2025-04-02T11:10:30.358903Z",
     "start_time": "2025-04-02T11:10:30.089566Z"
    }
   },
   "cell_type": "code",
   "source": [
    "plt.subplot(1,2,2)\n",
    "sns.histplot(merged_student_data1_df[\"Exam_score\"],kde=True,bins=20)\n",
    "plt.title(\"Histogram of Exam Score\")"
   ],
   "id": "3258229fdf033843",
   "outputs": [
    {
     "data": {
      "text/plain": [
       "Text(0.5, 1.0, 'Histogram of Exam Score')"
      ]
     },
     "execution_count": 365,
     "metadata": {},
     "output_type": "execute_result"
    },
    {
     "data": {
      "text/plain": [
       "<Figure size 640x480 with 1 Axes>"
      ],
      "image/png": "[encoded data removed]"
     },
     "metadata": {},
     "output_type": "display_data"
    }
   ],
   "execution_count": 365
  },
  {
   "metadata": {
    "ExecuteTime": {
     "end_time": "2025-04-02T11:10:35.114953Z",
     "start_time": "2025-04-02T11:10:35.100929Z"
    }
   },
   "cell_type": "code",
   "source": [
    "correlation,p_value =  stats.spearmanr(merged_student_data1_df[\"Exam_score\"],merged_student_data1_df[\"Sleep_hours\"])\n",
    "print(correlation)\n",
    "print(p_value)"
   ],
   "id": "8f699569131b0bbf",
   "outputs": [
    {
     "name": "stdout",
     "output_type": "stream",
     "text": [
      "-0.002832310100463068\n",
      "0.8179543488821751\n"
     ]
    }
   ],
   "execution_count": 366
  },
  {
   "metadata": {},
   "cell_type": "markdown",
   "source": "I got the p-value greater than 0.05, indicating that there is no significant relationship between the sleep hours and exam score. We fail to reject the null hypothesis.",
   "id": "6991974b0b3ebc6e"
  },
  {
   "metadata": {},
   "cell_type": "markdown",
   "source": [
    "'Hypothesis 2: Students with Internet access (Internet_Access) spend more time studying (Hours_Studied) than students without Internet access.\n",
    "- Create a boxplot for visualization and check for outliers.\n",
    "- Remove extreme values according to boxplot definition."
   ],
   "id": "fa1453d49a429749"
  },
  {
   "metadata": {
    "ExecuteTime": {
     "end_time": "2025-04-02T11:10:42.857330Z",
     "start_time": "2025-04-02T11:10:42.723097Z"
    }
   },
   "cell_type": "code",
   "source": [
    "plt.figure(figsize=(6,4))\n",
    "sns.boxplot(y=merged_student_data1_df[\"Hours_studied\"])\n",
    "plt.title(\"Boxplot of Study Hours\")\n",
    "plt.ylabel(\"Study Hours\")\n",
    "plt.show()"
   ],
   "id": "2529d7a969675c6b",
   "outputs": [
    {
     "data": {
      "text/plain": [
       "<Figure size 600x400 with 1 Axes>"
      ],
      "image/png": "[encoded data removed]"
     },
     "metadata": {},
     "output_type": "display_data"
    }
   ],
   "execution_count": 367
  },
  {
   "metadata": {
    "ExecuteTime": {
     "end_time": "2025-04-02T11:08:02.000517300Z",
     "start_time": "2025-04-02T10:41:23.353537Z"
    }
   },
   "cell_type": "code",
   "source": "merged_student_data1_df.columns",
   "id": "bb34a932c0e14adb",
   "outputs": [
    {
     "data": {
      "text/plain": [
       "Index(['Student_ID', 'Hours_studied', 'Attendance', 'Sleep_hours',\n",
       "       'Parental_Support', 'Resources_access', 'Internet_Access',\n",
       "       'Tutoring_Sessions', 'Family_Income', 'Teacher_Quality', 'School_Type',\n",
       "       'Exam_score', 'Parental_Education', 'Distance_from_Home', 'Gender'],\n",
       "      dtype='object')"
      ]
     },
     "execution_count": 303,
     "metadata": {},
     "output_type": "execute_result"
    }
   ],
   "execution_count": 303
  },
  {
   "metadata": {
    "ExecuteTime": {
     "end_time": "2025-04-02T11:10:55.600624Z",
     "start_time": "2025-04-02T11:10:55.589614Z"
    }
   },
   "cell_type": "code",
   "source": [
    "import pandas as pd\n",
    "\n",
    "# Assuming 'study_hours' is your column name\n",
    "Q1 = merged_student_data1_df['Hours_studied'].quantile(0.25)\n",
    "Q3 = merged_student_data1_df['Hours_studied'].quantile(0.75)\n",
    "IQR = Q3 - Q1\n",
    "\n",
    "lower_bound = Q1 - 1.5 * IQR\n",
    "upper_bound = Q3 + 1.5 * IQR"
   ],
   "id": "492918baac3b4da5",
   "outputs": [],
   "execution_count": 368
  },
  {
   "metadata": {
    "ExecuteTime": {
     "end_time": "2025-04-02T11:11:13.477565Z",
     "start_time": "2025-04-02T11:11:13.471422Z"
    }
   },
   "cell_type": "code",
   "source": "merged_student_data_df= [(merged_student_data1_df[\"Hours_studied\"] >= lower_bound) & (merged_student_data1_df[\"Hours_studied\"] <= upper_bound)]",
   "id": "eb4221247426943e",
   "outputs": [],
   "execution_count": 370
  },
  {
   "metadata": {
    "ExecuteTime": {
     "end_time": "2025-04-02T11:11:25.887881Z",
     "start_time": "2025-04-02T11:11:25.878625Z"
    }
   },
   "cell_type": "code",
   "source": [
    "#group_with_internet = merged_student_data_df[merged_student_data_df[\"Internet_Access\"]==\"Available\"][\"Hours_studied\"]\n",
    "group_with_internet = merged_student_data1_df[merged_student_data1_df[\"Internet_Access\"] == \"Available\"][\"Hours_studied\"]\n"
   ],
   "id": "4d764b3c694e90c2",
   "outputs": [],
   "execution_count": 371
  },
  {
   "metadata": {
    "ExecuteTime": {
     "end_time": "2025-04-02T11:11:33.019116Z",
     "start_time": "2025-04-02T11:11:33.009052Z"
    }
   },
   "cell_type": "code",
   "source": "group_without_internet = merged_student_data1_df[merged_student_data1_df[\"Internet_Access\"]==\"Unavailable\"][\"Hours_studied\"]",
   "id": "dd0c827ab22f14b1",
   "outputs": [],
   "execution_count": 372
  },
  {
   "metadata": {
    "ExecuteTime": {
     "end_time": "2025-04-02T11:11:39.911263Z",
     "start_time": "2025-04-02T11:11:39.892299Z"
    }
   },
   "cell_type": "code",
   "source": [
    "t_stat, p_value = stats.ttest_ind(group_with_internet, group_without_internet)\n",
    "print(f\"T-statistic: {t_stat:.3f}\")\n",
    "print(f\"p-value: {p_value:.3f}\")\n",
    "\n"
   ],
   "id": "7a1fcbde683e7dbe",
   "outputs": [
    {
     "name": "stdout",
     "output_type": "stream",
     "text": [
      "T-statistic: 0.354\n",
      "p-value: 0.724\n"
     ]
    }
   ],
   "execution_count": 373
  },
  {
   "metadata": {},
   "cell_type": "markdown",
   "source": "In the second hypothesis we got the p-value greater than 0.05. So we fail to reject null hypothesis indicating that there is no comparable differences between the groups",
   "id": "efe877fd90c5e2c9"
  },
  {
   "metadata": {},
   "cell_type": "code",
   "outputs": [],
   "execution_count": null,
   "source": "",
   "id": "7a42c98d42b7b251"
  },
  {
   "metadata": {},
   "cell_type": "markdown",
   "source": "Hypothesis 3: Students who receive tutoring (Tutoring_Sessions) have higher exam grades than students without tutoring.",
   "id": "ac496c521a3a5cc2"
  },
  {
   "metadata": {
    "ExecuteTime": {
     "end_time": "2025-04-02T11:12:02.867983Z",
     "start_time": "2025-04-02T11:12:02.858262Z"
    }
   },
   "cell_type": "code",
   "source": [
    "group_with_tutoringsessions = merged_student_data1_df[merged_student_data1_df[\"Tutoring_Sessions\"] > 0][\"Exam_score\"]\n",
    "group_without_tutoringsessions = merged_student_data1_df[merged_student_data1_df[\"Tutoring_Sessions\"] == 0][\"Exam_score\"]"
   ],
   "id": "2bb6b6291eade00",
   "outputs": [],
   "execution_count": 375
  },
  {
   "metadata": {
    "ExecuteTime": {
     "end_time": "2025-04-02T11:12:04.529595Z",
     "start_time": "2025-04-02T11:12:04.514171Z"
    }
   },
   "cell_type": "code",
   "source": [
    "t_stat, p_value = stats.ttest_ind(group_with_tutoringsessions,group_without_tutoringsessions,equal_var=False)\n",
    "print(f\"T-statistic: {t_stat:.3f}\")\n",
    "print(f\"p-value: {p_value:.3f}\")"
   ],
   "id": "34c2906e6dc75b65",
   "outputs": [
    {
     "name": "stdout",
     "output_type": "stream",
     "text": [
      "T-statistic: 6.960\n",
      "p-value: 0.000\n"
     ]
    }
   ],
   "execution_count": 376
  },
  {
   "metadata": {},
   "cell_type": "markdown",
   "source": "Here we got significant P-value,indicating that groups with tutoring sessions scored high scores compared with group without tutoring sessions",
   "id": "91a998b7273f2b64"
  }
 ],
 "metadata": {
  "kernelspec": {
   "display_name": "Python 3",
   "language": "python",
   "name": "python3"
  },
  "language_info": {
   "codemirror_mode": {
    "name": "ipython",
    "version": 2
   },
   "file_extension": ".py",
   "mimetype": "text/x-python",
   "name": "python",
   "nbconvert_exporter": "python",
   "pygments_lexer": "ipython2",
   "version": "2.7.6"
  }
 },
 "nbformat": 4,
 "nbformat_minor": 5
}
